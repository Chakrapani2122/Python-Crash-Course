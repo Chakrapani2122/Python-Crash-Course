{
 "cells": [
  {
   "cell_type": "markdown",
   "id": "ce33aa7e",
   "metadata": {},
   "source": [
    "# TESTING YOUR CODE\n",
    "\n",
    "unnittest module is used to test the code we have written which checks our code with a set of inputs results in the output you want.\n",
    "\n",
    "The module unittest from python standard library provides tools for testing your code. A unit test verifies that one specific aspect of a function's behaviour is correct. A test case is a collection of unit tests that together proves that a function behaves as it's supposed to, within a full range of situations you expect to handle."
   ]
  },
  {
   "cell_type": "markdown",
   "id": "e26b1773",
   "metadata": {},
   "source": [
    "To write a test case for a function, import the unittest module and the function you want to test. Then create a class that inherits from unittest.TestCase, and write a series of methods to test different aspects of your function’s behavior.\n"
   ]
  },
  {
   "cell_type": "code",
   "execution_count": 11,
   "id": "7cb5cbd4",
   "metadata": {
    "scrolled": true
   },
   "outputs": [
    {
     "ename": "ModuleNotFoundError",
     "evalue": "No module named 'function_name'",
     "output_type": "error",
     "traceback": [
      "\u001b[1;31m---------------------------------------------------------------------------\u001b[0m",
      "\u001b[1;31mModuleNotFoundError\u001b[0m                       Traceback (most recent call last)",
      "Input \u001b[1;32mIn [11]\u001b[0m, in \u001b[0;36m<cell line: 2>\u001b[1;34m()\u001b[0m\n\u001b[0;32m      1\u001b[0m \u001b[38;5;28;01mimport\u001b[39;00m \u001b[38;5;21;01munittest\u001b[39;00m\n\u001b[1;32m----> 2\u001b[0m \u001b[38;5;28;01mfrom\u001b[39;00m \u001b[38;5;21;01mfunction_name\u001b[39;00m \u001b[38;5;28;01mimport\u001b[39;00m get_formatted_name\n\u001b[0;32m      3\u001b[0m \u001b[38;5;28;01mclass\u001b[39;00m \u001b[38;5;21;01mNamesTestCase\u001b[39;00m(unittest\u001b[38;5;241m.\u001b[39mTestCase):\n\u001b[0;32m      4\u001b[0m     \u001b[38;5;124;03m\"\"\"Tests for 'name_function.py'.\"\"\"\u001b[39;00m\n",
      "\u001b[1;31mModuleNotFoundError\u001b[0m: No module named 'function_name'"
     ]
    }
   ],
   "source": [
    "import unittest\n",
    "from function_name import get_formatted_name\n",
    "class NamesTestCase(unittest.TestCase):\n",
    "    \"\"\"Tests for 'name_function.py'.\"\"\"\n",
    "    def test_first_last_name(self):\n",
    "        \"\"\"Do names like 'Janis Joplin' work?\"\"\"\n",
    "        formatted_name = get_formatted_name('janis', 'joplin')\n",
    "        self.assertEqual(formatted_name, 'Janis Joplin')\n",
    "unittest.main()"
   ]
  },
  {
   "cell_type": "markdown",
   "id": "c76fa018",
   "metadata": {},
   "source": [
    "     Method                       Use\n",
    "\n",
    "assertEqual(a, b)           Verify that a == b\n",
    "assertNotEqual(a, b)        Verify that a != b\n",
    "assertTrue(x)               Verify that x is True\n",
    "assertFalse(x)              Verify that x is False\n",
    "assertIn(item, list)        Verify that item is in list\n",
    "assertNotIn(item, list)     Verify that item is not in lis"
   ]
  },
  {
   "cell_type": "markdown",
   "id": "86c6f5e1",
   "metadata": {},
   "source": [
    "# A Class to Test\n",
    "\n",
    "Testing a class is similar to testing a function - much of the work involves testing the behaviour of the methods in the class."
   ]
  }
 ],
 "metadata": {
  "kernelspec": {
   "display_name": "Python 3 (ipykernel)",
   "language": "python",
   "name": "python3"
  },
  "language_info": {
   "codemirror_mode": {
    "name": "ipython",
    "version": 3
   },
   "file_extension": ".py",
   "mimetype": "text/x-python",
   "name": "python",
   "nbconvert_exporter": "python",
   "pygments_lexer": "ipython3",
   "version": "3.10.0"
  }
 },
 "nbformat": 4,
 "nbformat_minor": 5
}
