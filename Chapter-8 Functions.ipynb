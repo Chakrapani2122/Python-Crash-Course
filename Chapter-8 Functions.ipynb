{
 "cells": [
  {
   "cell_type": "markdown",
   "id": "7e1f1d7a",
   "metadata": {},
   "source": [
    "# FUNCTIONS\n",
    "\n",
    "Functions are named blocks of code that are designed to do one specific job. If you need to perform that task multiple times throughout your program, you don't need to type all the code for the same task again and again; you just call the function dedicated to that task.\n",
    "\n",
    "# Defining a Function\n",
    "\n",
    "The keyword def is used to declare a function."
   ]
  },
  {
   "cell_type": "code",
   "execution_count": 1,
   "id": "0e155392",
   "metadata": {},
   "outputs": [
    {
     "name": "stdout",
     "output_type": "stream",
     "text": [
      "Hello!\n"
     ]
    }
   ],
   "source": [
    "def greet_user():\n",
    "    \"\"\"Display a simple greeting.\"\"\"\n",
    "    print(\"Hello!\")\n",
    "\n",
    "greet_user()"
   ]
  },
  {
   "cell_type": "markdown",
   "id": "e631ac12",
   "metadata": {},
   "source": [
    "# Passing Iinformation to a Function\n",
    "\n",
    "In Python functions, information can be passed to the fuction in the form of arguments to the functions, they are declared at the time of declaration of the function within the paranthesis after the function name.\n",
    "\n",
    "At the time of function call information is passed to the function and the function uses the information to perform its task."
   ]
  },
  {
   "cell_type": "code",
   "execution_count": 2,
   "id": "40d7dd15",
   "metadata": {},
   "outputs": [
    {
     "name": "stdout",
     "output_type": "stream",
     "text": [
      "Hello, Jesse!\n"
     ]
    }
   ],
   "source": [
    "def greet_user(username):\n",
    "    \"\"\"Display a simple greeting.\"\"\"\n",
    "    print(\"Hello, \" + username.title() + \"!\")\n",
    "greet_user('jesse')"
   ]
  },
  {
   "cell_type": "markdown",
   "id": "25b93da3",
   "metadata": {},
   "source": [
    "# Argumrnts and Parameters\n",
    "\n",
    "In the above function greet_user() the variable username is the argument and the value passing to the function at the function call i.e, jesse is the parameter.\n",
    "\n",
    "# Positional Arguments\n",
    "\n",
    "When a function is called, Python must match each argument in the function call with a parameter in the function definition. Python matches them based on the order of the arguments provided. values matched up this way are called positional Arguments.\n",
    "\n",
    "The order in which the arguments are passed matters in Positional Arguments."
   ]
  },
  {
   "cell_type": "code",
   "execution_count": 4,
   "id": "b91c34fc",
   "metadata": {},
   "outputs": [
    {
     "name": "stdout",
     "output_type": "stream",
     "text": [
      "\n",
      "I have a hamster.\n",
      "My hamster's name is Harry.\n",
      "\n",
      "I have a dog.\n",
      "My dog's name is Willie.\n"
     ]
    }
   ],
   "source": [
    "def describe_pet(animal_type, pet_name):\n",
    "    \"\"\"Display information about a pet.\"\"\"\n",
    "    print(\"\\nI have a \" + animal_type + \".\")\n",
    "    print(\"My \" + animal_type + \"'s name is \" + pet_name.title() + \".\")\n",
    "\n",
    "describe_pet('hamster', 'harry')\n",
    "describe_pet('dog', 'willie')"
   ]
  },
  {
   "cell_type": "markdown",
   "id": "8a87f553",
   "metadata": {},
   "source": [
    "# Keyword Arguments\n",
    "\n",
    "A keyword argument is a nme-value pair that you pass too a function. There will be no confusion to Python incase of Keyword arguments."
   ]
  },
  {
   "cell_type": "code",
   "execution_count": 5,
   "id": "674e3b88",
   "metadata": {},
   "outputs": [
    {
     "name": "stdout",
     "output_type": "stream",
     "text": [
      "\n",
      "I have a hamster.\n",
      "My hamster's name is Harry.\n"
     ]
    }
   ],
   "source": [
    "def describe_pet(animal_type, pet_name):\n",
    "    \"\"\"Display information about a pet.\"\"\"\n",
    "    print(\"\\nI have a \" + animal_type + \".\")\n",
    "    print(\"My \" + animal_type + \"'s name is \" + pet_name.title() + \".\")\n",
    "\n",
    "describe_pet(animal_type='hamster', pet_name='harry')"
   ]
  },
  {
   "cell_type": "markdown",
   "id": "9feb1083",
   "metadata": {},
   "source": [
    "# Default Values\n",
    "\n",
    "Default values for the each argument can be assigned at the time of writing the function. If a value is provided for the argument,Python uses that vale. If not, it uses the parameter's default value."
   ]
  },
  {
   "cell_type": "code",
   "execution_count": 6,
   "id": "c4ec0974",
   "metadata": {},
   "outputs": [
    {
     "name": "stdout",
     "output_type": "stream",
     "text": [
      "\n",
      "I have a dog.\n",
      "My dog's name is Willie.\n"
     ]
    }
   ],
   "source": [
    "def describe_pet(pet_name, animal_type='dog'):\n",
    "    \"\"\"Display information about a pet.\"\"\"\n",
    "    print(\"\\nI have a \" + animal_type + \".\")\n",
    "    print(\"My \" + animal_type + \"'s name is \" + pet_name.title() + \".\")\n",
    "describe_pet(pet_name='willie')"
   ]
  },
  {
   "cell_type": "markdown",
   "id": "c000a13a",
   "metadata": {},
   "source": [
    "# Return Values\n",
    "\n",
    "A function does'nt always have to dispaly its output directly. Instead, it can process some data and then return a value or set of values. The value returned is called a return value."
   ]
  },
  {
   "cell_type": "code",
   "execution_count": 1,
   "id": "777390fc",
   "metadata": {},
   "outputs": [
    {
     "name": "stdout",
     "output_type": "stream",
     "text": [
      "Jimi Hendrix\n"
     ]
    }
   ],
   "source": [
    "def get_formatted_name(first_name, last_name):\n",
    "    \"\"\"Return a full name, neatly formatted.\"\"\"\n",
    "    full_name = first_name + ' ' + last_name\n",
    "    return full_name.title()\n",
    "musician = get_formatted_name('jimi', 'hendrix')\n",
    "print(musician)"
   ]
  },
  {
   "cell_type": "markdown",
   "id": "da34242f",
   "metadata": {},
   "source": [
    "# Passing Arbitary Number of Arguments\n",
    "\n",
    "Sometimes when you don't know how amany arguments a function needs to accept, Python allows a function to collect an arbitary number of arguments from the calling statement."
   ]
  },
  {
   "cell_type": "code",
   "execution_count": 1,
   "id": "b9ff288e",
   "metadata": {},
   "outputs": [
    {
     "name": "stdout",
     "output_type": "stream",
     "text": [
      "('pepperoni',)\n",
      "('mushrooms', 'green peppers', 'extra cheese')\n"
     ]
    }
   ],
   "source": [
    "def make_pizza(*toppings):\n",
    "    \"\"\"Print the list of toppings that have been requested.\"\"\"\n",
    "    print(toppings)\n",
    "\n",
    "make_pizza('pepperoni')\n",
    "make_pizza('mushrooms', 'green peppers', 'extra cheese')"
   ]
  },
  {
   "cell_type": "markdown",
   "id": "632d184d",
   "metadata": {},
   "source": [
    "The asterik in the parameter name *toppings tell Python to make an empty tuple called toppings and pack whatever values it receives into this tuple.\n",
    "\n",
    "# Mixing Positional and Arbitary Arguments\n",
    "\n",
    "If you want a fuction to accept several different kinds of arguments, the parameter that accepts an arbitary number of arguments must be placed last in the function definition. Pyhton matches positional arguments and keyword arguments first and then collects any remaining arguments in the final parameter."
   ]
  },
  {
   "cell_type": "code",
   "execution_count": 2,
   "id": "a7bafc6d",
   "metadata": {},
   "outputs": [
    {
     "name": "stdout",
     "output_type": "stream",
     "text": [
      "\n",
      "Making a 16-inch pizza with the following toppings:\n",
      "- pepperoni\n",
      "\n",
      "Making a 12-inch pizza with the following toppings:\n",
      "- mushrooms\n",
      "- green peppers\n",
      "- extra cheese\n"
     ]
    }
   ],
   "source": [
    "def make_pizza(size, *toppings): \n",
    "    \"\"\"Summarize the pizza we are about to make.\"\"\"\n",
    "    print(\"\\nMaking a \" + str(size) + \n",
    "    \"-inch pizza with the following toppings:\") \n",
    "    for topping in toppings: \n",
    "        print(\"- \" + topping) \n",
    "        \n",
    "make_pizza(16, 'pepperoni') \n",
    "make_pizza(12, 'mushrooms', 'green peppers', 'extra cheese')"
   ]
  },
  {
   "cell_type": "markdown",
   "id": "0dc2338d",
   "metadata": {},
   "source": [
    "# Using Arbitary Keyword Arguments\n",
    "\n",
    "Sometimes you'll want to accept an arbitary number of arguments, but you won't know ahead of time what kind of information will be passed to the function. In this case, you can write functions that accept as many key-value pairs as the calling statement provides."
   ]
  },
  {
   "cell_type": "code",
   "execution_count": 3,
   "id": "81431b50",
   "metadata": {},
   "outputs": [
    {
     "name": "stdout",
     "output_type": "stream",
     "text": [
      "{'first_name': 'albert', 'last_name': 'einstein', 'location': 'princeton'}\n"
     ]
    }
   ],
   "source": [
    "def build_profile(first, last, **user_info):\n",
    "    \"\"\"Build a dictionary containing everything we know about a user.\"\"\"\n",
    "    profile = {}\n",
    "    profile['first_name'] = first\n",
    "    profile['last_name'] = last\n",
    "    for key, value in user_info.items():\n",
    "        profile[key] = value\n",
    "        return profile\n",
    "user_profile = build_profile('albert', 'einstein',\n",
    "location='princeton',\n",
    "field='physics')\n",
    "print(user_profile)"
   ]
  },
  {
   "cell_type": "markdown",
   "id": "dd435016",
   "metadata": {},
   "source": [
    "The definition of build_profile() expects a first and last name, and then it allows the user to pass ina as many name-value pairs as they want. the double asterik before the parameter **user_info cause Python to create an empty dictionary called user_info and pack whatever name-value pairs it receives into the dictionary."
   ]
  },
  {
   "cell_type": "markdown",
   "id": "1429a945",
   "metadata": {},
   "source": [
    "# Storing Your Functions in Modules\n",
    "\n",
    "The functions can be stored in a separate file called module and then imported to use the functions. the import statement tells Python to make the code in a amodule available in the currently running program file.\n",
    "\n",
    "# Importing an Entire Module\n",
    "\n",
    "To start importing functions, we first need to create a module. A module is a file ending in .py that contains the code you want to import into your program.\n",
    "\n",
    "# Importing Specific Functions\n",
    "\n",
    "from module_name import function_0, function_1, function_2\n",
    "\n",
    "# Using as to Give a Function an Alias\n",
    "\n",
    "from pizza import make_pizza as mp\n",
    "\n",
    "\n",
    "# Using as to Give a Module an Alias\n",
    "\n",
    "\n",
    "import pizza as p\n",
    "\n",
    "# Importing All Functions in a Module\n",
    "\n",
    "from pizza import *"
   ]
  },
  {
   "cell_type": "markdown",
   "id": "239359d7",
   "metadata": {},
   "source": [
    "# Styling Functions\n",
    "\n",
    "Functions should have descriptive names, and these names should use lowercase letters and underscores. Modules names should also use these conventions as well.\n",
    "\n",
    "Everey function should have a commnet that explains concisely what the function does. The comment sholud appear immediately after the function definition and use the docstring format."
   ]
  },
  {
   "cell_type": "code",
   "execution_count": null,
   "id": "a471c035",
   "metadata": {},
   "outputs": [],
   "source": []
  }
 ],
 "metadata": {
  "kernelspec": {
   "display_name": "Python 3 (ipykernel)",
   "language": "python",
   "name": "python3"
  },
  "language_info": {
   "codemirror_mode": {
    "name": "ipython",
    "version": 3
   },
   "file_extension": ".py",
   "mimetype": "text/x-python",
   "name": "python",
   "nbconvert_exporter": "python",
   "pygments_lexer": "ipython3",
   "version": "3.10.0"
  }
 },
 "nbformat": 4,
 "nbformat_minor": 5
}
