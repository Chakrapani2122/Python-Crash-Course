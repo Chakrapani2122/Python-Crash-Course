{
 "cells": [
  {
   "cell_type": "markdown",
   "id": "074329f8",
   "metadata": {},
   "source": [
    "# LISTS"
   ]
  },
  {
   "cell_type": "markdown",
   "id": "470130c2",
   "metadata": {},
   "source": [
    "List is a collection of items in a particular order.\n",
    "In Python [] indicate a list, individual elements are separeted by commas."
   ]
  },
  {
   "cell_type": "code",
   "execution_count": 15,
   "id": "b9a4df5e",
   "metadata": {},
   "outputs": [
    {
     "name": "stdout",
     "output_type": "stream",
     "text": [
      "['trek', 'cannodale', 'redline', 'specilaized']\n"
     ]
    }
   ],
   "source": [
    "# bicycles is a list\n",
    "bicycles=['trek','cannodale','redline', 'specilaized']\n",
    "print(bicycles)"
   ]
  },
  {
   "cell_type": "markdown",
   "id": "e8253ded",
   "metadata": {},
   "source": [
    "# ACCESSING ELEMENTS IN A LIST\n",
    "\n",
    "we can access any element from the list by specifying the index of the element enclosed in a square brackets [ ]. Index in python always starts from 0 and negative indexing from -1."
   ]
  },
  {
   "cell_type": "code",
   "execution_count": 16,
   "id": "e79625cf",
   "metadata": {},
   "outputs": [
    {
     "name": "stdout",
     "output_type": "stream",
     "text": [
      "redline\n",
      "trek\n"
     ]
    }
   ],
   "source": [
    "bicycles=['trek','cannodale','redline', 'specilaized']\n",
    "print(bicycles[2])\n",
    "print(bicycles[0]) # prints the third element from the list"
   ]
  },
  {
   "cell_type": "code",
   "execution_count": 17,
   "id": "ead09e65",
   "metadata": {},
   "outputs": [
    {
     "name": "stdout",
     "output_type": "stream",
     "text": [
      "specilaized\n",
      "cannodale\n"
     ]
    }
   ],
   "source": [
    "bicycles=['trek','cannodale','redline', 'specilaized']\n",
    "print(bicycles[-1])\n",
    "print(bicycles[-3])"
   ]
  },
  {
   "cell_type": "markdown",
   "id": "ad3b128c",
   "metadata": {},
   "source": [
    "# Changing, Adding and Removing Elements\n",
    "Most of the lists we create will be dynamic, we first create the list then we add or remove elements to it as the program runs.\n",
    "\n",
    "# MODIFYING ELEMENTS IN A LIST\n",
    "\n",
    "To modify a element in the list, the syntax is similar to accesing the element. To change the list name followed by index of the element then provide the new value to the element."
   ]
  },
  {
   "cell_type": "code",
   "execution_count": 18,
   "id": "7f333179",
   "metadata": {},
   "outputs": [
    {
     "name": "stdout",
     "output_type": "stream",
     "text": [
      "['trek', 'cannodale', 'Atlas', 'specilaized']\n"
     ]
    }
   ],
   "source": [
    "bicycles=['trek','cannodale','redline', 'specilaized']\n",
    "bicycles[2] = 'Atlas' # Assigning new value Atlas in place of redline.\n",
    "print(bicycles)"
   ]
  },
  {
   "cell_type": "markdown",
   "id": "c3649f9b",
   "metadata": {},
   "source": [
    "# ADDING ELEMENTS TO A LIST\n",
    "\n",
    "* list.append(value) : It will add the new element at the end of the list."
   ]
  },
  {
   "cell_type": "code",
   "execution_count": 19,
   "id": "cecb2d05",
   "metadata": {},
   "outputs": [
    {
     "name": "stdout",
     "output_type": "stream",
     "text": [
      "['trek', 'cannodale', 'redline', 'specilaized', 'Hero']\n"
     ]
    }
   ],
   "source": [
    "bicycles=['trek','cannodale','redline', 'specilaized']\n",
    "bicycles.append(\"Hero\") # adds Hero at the end of the list.\n",
    "print(bicycles)"
   ]
  },
  {
   "cell_type": "markdown",
   "id": "eb39c92c",
   "metadata": {},
   "source": [
    "# INSERTING ELEMNTS INTO A LIST\n",
    "\n",
    "* insert : insert element at a specific index position, all the elemnts after the index move one position to the right."
   ]
  },
  {
   "cell_type": "code",
   "execution_count": 20,
   "id": "aa73bc10",
   "metadata": {},
   "outputs": [
    {
     "name": "stdout",
     "output_type": "stream",
     "text": [
      "['trek', 'cannodale', 'redline', 'skybikes', 'specilaized']\n"
     ]
    }
   ],
   "source": [
    "bicycles=['trek','cannodale','redline', 'specilaized']\n",
    "bicycles.insert(3,'skybikes') # inserts skybikes after redline.\n",
    "print(bicycles)"
   ]
  },
  {
   "cell_type": "markdown",
   "id": "44b2d848",
   "metadata": {},
   "source": [
    "# REMOVING ELEMENTS FROM A LIST\n",
    "\n",
    "* del list[index] : to delete/remove a element at a specific index."
   ]
  },
  {
   "cell_type": "code",
   "execution_count": 21,
   "id": "10bbe1d1",
   "metadata": {},
   "outputs": [
    {
     "name": "stdout",
     "output_type": "stream",
     "text": [
      "['trek', 'redline', 'specilaized']\n"
     ]
    }
   ],
   "source": [
    "bicycles=['trek','cannodale','redline', 'specilaized']\n",
    "del bicycles[1] # removes cannodale from list which is at index 1.\n",
    "print(bicycles)"
   ]
  },
  {
   "cell_type": "markdown",
   "id": "e6f21122",
   "metadata": {},
   "source": [
    "* list.pop(index) : it removes the element at the end of the list and returns it. We can remove element at a index by specifying the index as argument to the pop() method."
   ]
  },
  {
   "cell_type": "code",
   "execution_count": 22,
   "id": "1bb7f90c",
   "metadata": {},
   "outputs": [
    {
     "name": "stdout",
     "output_type": "stream",
     "text": [
      "['trek', 'cannodale', 'redline']\n",
      "specilaized\n"
     ]
    }
   ],
   "source": [
    "bicycles=['trek','cannodale','redline', 'specilaized']\n",
    "popped = bicycles.pop() # removes element at end of list\n",
    "print(bicycles)\n",
    "print(popped)"
   ]
  },
  {
   "cell_type": "code",
   "execution_count": 23,
   "id": "9b572602",
   "metadata": {},
   "outputs": [
    {
     "name": "stdout",
     "output_type": "stream",
     "text": [
      "['trek', 'cannodale', 'specilaized']\n",
      "redline\n"
     ]
    }
   ],
   "source": [
    "bicycles=['trek','cannodale','redline', 'specilaized']\n",
    "popped = bicycles.pop(2) # removes elemnt at index 2 i.e, redline\n",
    "print(bicycles)\n",
    "print(popped)"
   ]
  },
  {
   "cell_type": "markdown",
   "id": "b2bdd5e9",
   "metadata": {},
   "source": [
    "# REMOVING ELEMENT BY VALUE\n",
    "\n",
    "* list.remove(value) : removes the element passed a s the argument."
   ]
  },
  {
   "cell_type": "code",
   "execution_count": 24,
   "id": "c1351e2e",
   "metadata": {},
   "outputs": [
    {
     "name": "stdout",
     "output_type": "stream",
     "text": [
      "['trek', 'redline', 'specilaized']\n"
     ]
    }
   ],
   "source": [
    "bicycles=['trek','cannodale','redline', 'specilaized']\n",
    "bicycles.remove('cannodale') # removes cannadole\n",
    "print(bicycles)"
   ]
  },
  {
   "cell_type": "markdown",
   "id": "2cebfaa9",
   "metadata": {},
   "source": [
    "# Sorting a list permanantly\n",
    "\n",
    "* list.sort() : sorts elememts in ascending order. To make it descending order we need to pass reverse=True as an argument to the sort() method."
   ]
  },
  {
   "cell_type": "code",
   "execution_count": 31,
   "id": "808d9106",
   "metadata": {},
   "outputs": [
    {
     "name": "stdout",
     "output_type": "stream",
     "text": [
      "['audi', 'bmw', 'toyota', 'subaru']\n",
      "['audi', 'bmw', 'subaru', 'toyota']\n",
      "['toyota', 'subaru', 'bmw', 'audi']\n"
     ]
    }
   ],
   "source": [
    "cars= ['audi', 'bmw', 'toyota', 'subaru']\n",
    "print(cars)\n",
    "cars.sort() # sorts the order of list in ascending order\n",
    "print(cars)\n",
    "cars.sort(reverse=True) # sorts list in descending order\n",
    "print(cars)\n",
    "# print(cars.sort()) is not working."
   ]
  },
  {
   "cell_type": "markdown",
   "id": "7fc3c18e",
   "metadata": {},
   "source": [
    "# Sorting list temorarily\n",
    "\n",
    "* sorted(list) : sorts the list passed as argument temporarily."
   ]
  },
  {
   "cell_type": "code",
   "execution_count": 33,
   "id": "b1e76587",
   "metadata": {},
   "outputs": [
    {
     "name": "stdout",
     "output_type": "stream",
     "text": [
      "['audi', 'bmw', 'subaru', 'toyota']\n",
      "['audi', 'bmw', 'toyota', 'subaru']\n"
     ]
    }
   ],
   "source": [
    "cars= ['audi', 'bmw', 'toyota', 'subaru']\n",
    "print(sorted(cars)) # temporarily sorts the list\n",
    "print(cars) # original list remains not changed\n",
    "# print(soretd(cars)) is working."
   ]
  },
  {
   "cell_type": "markdown",
   "id": "e1d2de10",
   "metadata": {},
   "source": [
    "# Reversinng the order of the list\n",
    "\n",
    "* list.reverse() : reverses the order of the list."
   ]
  },
  {
   "cell_type": "code",
   "execution_count": 36,
   "id": "2ec8f17e",
   "metadata": {},
   "outputs": [
    {
     "name": "stdout",
     "output_type": "stream",
     "text": [
      "['subaru', 'toyota', 'bmw', 'audi']\n"
     ]
    }
   ],
   "source": [
    "cars= ['audi', 'bmw', 'toyota', 'subaru']\n",
    "cars.reverse()\n",
    "print(cars)\n",
    "# print(cars.reverse()) is not workinng."
   ]
  },
  {
   "cell_type": "markdown",
   "id": "80814090",
   "metadata": {},
   "source": [
    "# Finding length of the list\n",
    "\n",
    "* len(list) : returns the number of elements in the list."
   ]
  },
  {
   "cell_type": "code",
   "execution_count": 37,
   "id": "c1eb44b3",
   "metadata": {},
   "outputs": [
    {
     "name": "stdout",
     "output_type": "stream",
     "text": [
      "4\n"
     ]
    }
   ],
   "source": [
    "cars= ['audi', 'bmw', 'toyota', 'subaru']\n",
    "print(len(cars))"
   ]
  },
  {
   "cell_type": "markdown",
   "id": "3f0751d2",
   "metadata": {},
   "source": [
    "# Avoiding Index Errors When Working with Lists\n",
    "\n",
    "When you have a list with 3 elements and you ask to print 4th element results in IndexError."
   ]
  },
  {
   "cell_type": "code",
   "execution_count": 38,
   "id": "395d9a3e",
   "metadata": {},
   "outputs": [
    {
     "ename": "IndexError",
     "evalue": "list index out of range",
     "output_type": "error",
     "traceback": [
      "\u001b[1;31m---------------------------------------------------------------------------\u001b[0m",
      "\u001b[1;31mIndexError\u001b[0m                                Traceback (most recent call last)",
      "Input \u001b[1;32mIn [38]\u001b[0m, in \u001b[0;36m<cell line: 2>\u001b[1;34m()\u001b[0m\n\u001b[0;32m      1\u001b[0m cars\u001b[38;5;241m=\u001b[39m [\u001b[38;5;124m'\u001b[39m\u001b[38;5;124maudi\u001b[39m\u001b[38;5;124m'\u001b[39m, \u001b[38;5;124m'\u001b[39m\u001b[38;5;124mbmw\u001b[39m\u001b[38;5;124m'\u001b[39m, \u001b[38;5;124m'\u001b[39m\u001b[38;5;124mtoyota\u001b[39m\u001b[38;5;124m'\u001b[39m]\n\u001b[1;32m----> 2\u001b[0m \u001b[38;5;28mprint\u001b[39m(\u001b[43mcars\u001b[49m\u001b[43m[\u001b[49m\u001b[38;5;241;43m3\u001b[39;49m\u001b[43m]\u001b[49m)\n",
      "\u001b[1;31mIndexError\u001b[0m: list index out of range"
     ]
    }
   ],
   "source": [
    "cars= ['audi', 'bmw', 'toyota']\n",
    "print(cars[3])"
   ]
  },
  {
   "cell_type": "markdown",
   "id": "d4c04dca",
   "metadata": {},
   "source": [
    "# Slicing of the list\n",
    "\n",
    "* list[start:end:step] : returns the part of the list. step is a optinal value which is specified to skip step number of elements. If start is not provided it takes 0 by default and end take -1. The start index is included and end index is excluded."
   ]
  },
  {
   "cell_type": "code",
   "execution_count": 40,
   "id": "84a159ed",
   "metadata": {},
   "outputs": [
    {
     "name": "stdout",
     "output_type": "stream",
     "text": [
      "['bmw', 'toyota']\n",
      "['audi', 'bmw', 'toyota']\n",
      "['audi', 'bmw', 'toyota', 'subaru']\n",
      "['audi', 'toyota']\n"
     ]
    }
   ],
   "source": [
    "cars= ['audi', 'bmw', 'toyota', 'subaru']\n",
    "print(cars[1:3])\n",
    "print(cars[:3])\n",
    "print(cars[:])\n",
    "print(cars[::2])"
   ]
  }
 ],
 "metadata": {
  "kernelspec": {
   "display_name": "Python 3 (ipykernel)",
   "language": "python",
   "name": "python3"
  },
  "language_info": {
   "codemirror_mode": {
    "name": "ipython",
    "version": 3
   },
   "file_extension": ".py",
   "mimetype": "text/x-python",
   "name": "python",
   "nbconvert_exporter": "python",
   "pygments_lexer": "ipython3",
   "version": "3.10.0"
  }
 },
 "nbformat": 4,
 "nbformat_minor": 5
}
