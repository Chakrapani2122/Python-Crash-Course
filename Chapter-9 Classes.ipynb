{
 "cells": [
  {
   "cell_type": "markdown",
   "id": "bdb32813",
   "metadata": {},
   "source": [
    "# CLASSES\n",
    "\n",
    "object-oriented programming is of the most effective approaches to writing software. Classes represent real-world things and situations, and we create objects based on these classes.\n",
    "\n",
    "Making an object froma a class is called instantiation. Classes are stored in the modules and import classes written by other programmers into your own program files.\n",
    "\n",
    "# Creating and Using a Class\n",
    "\n",
    "By convention Capitalized names refers to classes is Python. The class is followed by paranthesis."
   ]
  },
  {
   "cell_type": "code",
   "execution_count": 2,
   "id": "8e9f2945",
   "metadata": {},
   "outputs": [],
   "source": [
    "class Dog():\n",
    "    \"\"\"A simple attempt to model a dog.\"\"\" \n",
    "    def __init__(self, name, age):\n",
    "        \"\"\"Initialize name and age attributes.\"\"\"\n",
    "        self.name = name\n",
    "        self.age = age\n",
    "    def sit(self):\n",
    "        \"\"\"Simulate a dog sitting in response to a command.\"\"\"\n",
    "        print(self.name.title() + \" is now sitting.\")\n",
    "    def roll_over(self):\n",
    "        \"\"\"Simulate rolling over in response to a command.\"\"\"\n",
    "        print(self.name.title() + \" rolled over!\")"
   ]
  },
  {
   "cell_type": "markdown",
   "id": "9b4d3c5c",
   "metadata": {},
   "source": [
    "# The __init__() Method\n",
    "\n",
    "A function that's a part of a class is a method.\n",
    "\n",
    "The __init__() method is a special method Python runs automatically whenever we create a new instance based on the class. This method has two leading underscores and two trailing underscores, a convention that helps prevent Python's default method names from conflicting with your method names.\n",
    "\n",
    "The self parameter is required in the method definition, and it must comme first before the other parameters. Everey method call associated with a class is automatically pass self, which is the reference to the instance itself. It gives the individual instances access to the attributes and methods in the class."
   ]
  },
  {
   "cell_type": "markdown",
   "id": "06a5d4c9",
   "metadata": {},
   "source": [
    "# Creating Instance of a Class\n",
    "\n",
    "my_dog = Dog('Willie', 6)\n",
    "\n",
    "# Accessing Attributes\n",
    "\n",
    "To access the attributes of ana instance, we use dot notation. We access the name attribute of the instance my_dog using : my_dog.name\n",
    "\n",
    "# Calling Mathods\n",
    "\n",
    "We use dot notation to call methods associated with the instance of a class. \n",
    "\n",
    "my_dog.roll_over()\n",
    "\n",
    "# Creating Multiple Instances\n",
    "\n",
    "my_dog = Dog('Willie', 6)\n",
    "your_dog = ('Lucy', 9)\n",
    "\n",
    "# Working with Classes and Instances\n",
    "\n",
    "The Car Class: "
   ]
  },
  {
   "cell_type": "code",
   "execution_count": 3,
   "id": "7fa791de",
   "metadata": {},
   "outputs": [
    {
     "name": "stdout",
     "output_type": "stream",
     "text": [
      "2016 Audi A4\n"
     ]
    }
   ],
   "source": [
    "class Car():\n",
    "    \"\"\"A simple attempt to represent a car.\"\"\"\n",
    "    def __init__(self, make, model, year):\n",
    "        \"\"\"Initialize attributes to describe a car.\"\"\"\n",
    "        self.make = make\n",
    "        self.model = model\n",
    "        self.year = year\n",
    "\n",
    "    def get_descriptive_name(self):\n",
    "        \"\"\"Return a neatly formatted descriptive name.\"\"\"\n",
    "        long_name = str(self.year) + ' ' + self.make + ' ' + self.model\n",
    "        return long_name.title()\n",
    "\n",
    "my_new_car = Car('audi', 'a4', 2016)\n",
    "print(my_new_car.get_descriptive_name())"
   ]
  },
  {
   "cell_type": "markdown",
   "id": "3f878458",
   "metadata": {},
   "source": [
    "# Modifying a Attribute value\n",
    "\n",
    "* Modifying an Attribute value Directly\n",
    "    * my_new_car.odometer_reading = 23\n",
    "\n",
    "* Modifying an Attribute's value through a Method\n",
    "    * def update_odometer(self,milage):\n",
    "        self.odometer_reading = milage\n",
    "\n",
    "* Incrementing a attribute value through a method\n",
    "    * def increment_odometer(self, miles):\n",
    "        self.odometer_reading += miles"
   ]
  },
  {
   "cell_type": "markdown",
   "id": "20a6c39b",
   "metadata": {},
   "source": [
    "# Inheritance\n",
    "\n",
    "If a class you're writing is aspecialized version of another class you wrote, you can use inheritance. When one calss inherits from another, it automatically takes all the attributes and methods of the first calss. The original class is called the parent calss and the new class is called the child class. the child class is also free to define new attributes and methods.\n",
    "\n",
    "The parent class is placed in the paranthesis at the time of declaration of child class to inherit the properties of parent class."
   ]
  },
  {
   "cell_type": "markdown",
   "id": "4101a498",
   "metadata": {},
   "source": [
    "super() function is a special function that helps Python make connections between the parent and chils class. This line tells Python to call the __init__ method from the parent class, which gives the instance of child class all the attributes of the parent class."
   ]
  },
  {
   "cell_type": "code",
   "execution_count": 4,
   "id": "0e4df1bf",
   "metadata": {},
   "outputs": [
    {
     "name": "stdout",
     "output_type": "stream",
     "text": [
      "2016 Tesla Model S\n"
     ]
    }
   ],
   "source": [
    "class Car():\n",
    "    \"\"\"A simple attempt to represent a car.\"\"\"\n",
    "    def __init__(self, make, model, year):\n",
    "        self.make = make\n",
    "        self.model = model\n",
    "        self.year = year\n",
    "        self.odometer_reading = 0\n",
    "\n",
    "    def get_descriptive_name(self):\n",
    "        long_name = str(self.year) + ' ' + self.make + ' ' + self.model\n",
    "        return long_name.title()\n",
    "\n",
    "    def read_odometer(self):\n",
    "        print(\"This car has \" + str(self.odometer_reading) + \" miles on it.\")\n",
    "\n",
    "    def update_odometer(self, mileage):\n",
    "        if mileage >= self.odometer_reading:\n",
    "            self.odometer_reading = mileage\n",
    "        else:\n",
    "            print(\"You can't roll back an odometer!\")\n",
    "\n",
    "    def increment_odometer(self, miles):\n",
    "        self.odometer_reading += miles\n",
    "class ElectricCar(Car):\n",
    "    \"\"\"Represent aspects of a car, specific to electric vehicles.\"\"\"\n",
    "\n",
    "def __init__(self, make, model, year):\n",
    "    \"\"\"Initialize attributes of the parent class.\"\"\"\n",
    "    super().__init__(make, model, year)\n",
    "\n",
    "my_tesla = ElectricCar('tesla', 'model s', 2016)\n",
    "print(my_tesla.get_descriptive_name())"
   ]
  },
  {
   "cell_type": "markdown",
   "id": "c520ae11",
   "metadata": {},
   "source": [
    "# Overriding Methods from the Parent Class\n",
    "\n",
    "To do this you define a method in the child class with the same name as the method you want to override in the parent class. Python will disregard the method in the parent class and pay attention to the method you define in the child class."
   ]
  },
  {
   "cell_type": "markdown",
   "id": "ba295226",
   "metadata": {},
   "source": [
    "# Instances as Attributes\n",
    "\n",
    "Incase of a class having many attributes and methods, your code becomes lengthy. You may recognise that a part of your class may be written as a separate class. You may break your class into smaller classes that work together."
   ]
  },
  {
   "cell_type": "markdown",
   "id": "04fb532f",
   "metadata": {},
   "source": [
    "# Python Standard Library\n",
    "\n",
    "The Python standard library is a set of modules included with every Python installation.\n",
    "\n",
    "OrderedDict is a class from the module collections. Dictionary allows you to connect pieces of information , but they don't keep track of the order in which you add key-value pairs are added. OrderedDict class from collections module behave almost like dictionary except keep track of the order in which key-value pairs are added."
   ]
  },
  {
   "cell_type": "code",
   "execution_count": 1,
   "id": "03ae65fd",
   "metadata": {},
   "outputs": [
    {
     "name": "stdout",
     "output_type": "stream",
     "text": [
      "Jen's favorite language is Python.\n",
      "Sarah's favorite language is C.\n",
      "Edward's favorite language is Ruby.\n",
      "Phil's favorite language is Python.\n"
     ]
    }
   ],
   "source": [
    "from collections import OrderedDict\n",
    "favorite_languages = OrderedDict()\n",
    "favorite_languages['jen'] = 'python'\n",
    "favorite_languages['sarah'] = 'c'\n",
    "favorite_languages['edward'] = 'ruby'\n",
    "favorite_languages['phil'] = 'python'\n",
    "for name, language in favorite_languages.items():\n",
    "    print(name.title() + \"'s favorite language is \" +language.title() + \".\")"
   ]
  }
 ],
 "metadata": {
  "kernelspec": {
   "display_name": "Python 3 (ipykernel)",
   "language": "python",
   "name": "python3"
  },
  "language_info": {
   "codemirror_mode": {
    "name": "ipython",
    "version": 3
   },
   "file_extension": ".py",
   "mimetype": "text/x-python",
   "name": "python",
   "nbconvert_exporter": "python",
   "pygments_lexer": "ipython3",
   "version": "3.10.0"
  }
 },
 "nbformat": 4,
 "nbformat_minor": 5
}
