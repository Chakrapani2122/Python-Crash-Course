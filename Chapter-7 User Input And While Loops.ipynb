{
 "cells": [
  {
   "cell_type": "markdown",
   "id": "48fb587a",
   "metadata": {},
   "source": [
    "# User Input and While Loops\n",
    "\n",
    "Python's while lops are used to run the program as long as certian conditions remain true.\n",
    "\n",
    "input( ) function is used to take input from the user."
   ]
  },
  {
   "cell_type": "markdown",
   "id": "729bd75d",
   "metadata": {},
   "source": [
    "# How input() Function Works\n",
    "\n",
    "The input() function pauses your program and wits for the user to enter some text."
   ]
  },
  {
   "cell_type": "code",
   "execution_count": 1,
   "id": "0f78835c",
   "metadata": {},
   "outputs": [
    {
     "name": "stdout",
     "output_type": "stream",
     "text": [
      "Tell me something, and I will repeat it back to you: Hello\n",
      "Hello\n"
     ]
    }
   ],
   "source": [
    "message = input(\"Tell me something, and I will repeat it back to you: \")\n",
    "print(message)"
   ]
  },
  {
   "cell_type": "markdown",
   "id": "0d351826",
   "metadata": {},
   "source": [
    "The input() function takes one argument: the prompt, that we want to take from the user.\n",
    "\n",
    "Each time you use the input() function, you hsould include a clear, easy to foll wprompt that tells the user exactly what kind of information you're looking for.\n",
    "\n",
    "Add a space at the end of your prompt to separate the prompt from the user's response and to make it clear to your user where to enter their text."
   ]
  },
  {
   "cell_type": "code",
   "execution_count": 2,
   "id": "d6e5519a",
   "metadata": {},
   "outputs": [
    {
     "name": "stdout",
     "output_type": "stream",
     "text": [
      "Please enter your name: Chakrapani\n",
      "Hello, Chakrapani!\n"
     ]
    }
   ],
   "source": [
    "name = input(\"Please enter your name: \")\n",
    "print(\"Hello, \" + name + \"!\")"
   ]
  },
  {
   "cell_type": "markdown",
   "id": "6852b348",
   "metadata": {},
   "source": [
    "When you use input() python interprets everything the user enters as a string. \n",
    "\n",
    "int() function tells python to treat the input as a numerical value."
   ]
  },
  {
   "cell_type": "markdown",
   "id": "b76cdbdd",
   "metadata": {},
   "source": [
    "# While Loop\n",
    "\n",
    "The while loop runs as long as a certian condition is True."
   ]
  },
  {
   "cell_type": "code",
   "execution_count": 1,
   "id": "373c236d",
   "metadata": {},
   "outputs": [
    {
     "name": "stdout",
     "output_type": "stream",
     "text": [
      "1\n",
      "2\n",
      "3\n",
      "4\n",
      "5\n"
     ]
    }
   ],
   "source": [
    "current_number = 1\n",
    "while current_number <= 5:\n",
    "    print(current_number)\n",
    "    current_number += 1"
   ]
  },
  {
   "cell_type": "markdown",
   "id": "183e61fb",
   "metadata": {},
   "source": [
    "# Letting User Choose When to Quit"
   ]
  },
  {
   "cell_type": "code",
   "execution_count": 3,
   "id": "c3cddb8d",
   "metadata": {},
   "outputs": [
    {
     "name": "stdout",
     "output_type": "stream",
     "text": [
      "\n",
      "Tell me something, and I will repeat it back to you:\n",
      "Enter 'quit' to end the program. hello\n",
      "hello\n",
      "\n",
      "Tell me something, and I will repeat it back to you:\n",
      "Enter 'quit' to end the program. hii\n",
      "hii\n",
      "\n",
      "Tell me something, and I will repeat it back to you:\n",
      "Enter 'quit' to end the program. quit\n",
      "quit\n"
     ]
    }
   ],
   "source": [
    "prompt = \"\\nTell me something, and I will repeat it back to you:\"\n",
    "prompt += \"\\nEnter 'quit' to end the program. \"\n",
    "message = \"\"\n",
    "while message != 'quit':\n",
    "    message = input(prompt)\n",
    "    print(message)"
   ]
  },
  {
   "cell_type": "markdown",
   "id": "cb315e95",
   "metadata": {},
   "source": [
    "# Using Flag"
   ]
  },
  {
   "cell_type": "code",
   "execution_count": 4,
   "id": "9b49afd2",
   "metadata": {},
   "outputs": [
    {
     "name": "stdout",
     "output_type": "stream",
     "text": [
      "\n",
      "Tell me something, and I will repeat it back to you:\n",
      "Enter 'quit' to end the program. Chakrapani\n",
      "Chakrapani\n",
      "\n",
      "Tell me something, and I will repeat it back to you:\n",
      "Enter 'quit' to end the program. quit\n"
     ]
    }
   ],
   "source": [
    "active = True\n",
    "while active:\n",
    "    message = input(prompt)\n",
    " \n",
    "    if message == 'quit':\n",
    "        active = False\n",
    "    else:\n",
    "        print(message)\n"
   ]
  },
  {
   "cell_type": "markdown",
   "id": "d5b29021",
   "metadata": {},
   "source": [
    "# Using break to Exit Loop\n",
    "\n",
    "To exit a while loop immediately without running any remaining code in the loop, regardless of results of any conditional test, use break statement."
   ]
  },
  {
   "cell_type": "code",
   "execution_count": 5,
   "id": "837c2a66",
   "metadata": {},
   "outputs": [
    {
     "name": "stdout",
     "output_type": "stream",
     "text": [
      "\n",
      "Please enter the name of a city you have visited:\n",
      "(Enter 'quit' when you are finished.) hello\n",
      "I'd love to go to Hello!\n",
      "\n",
      "Please enter the name of a city you have visited:\n",
      "(Enter 'quit' when you are finished.) quit\n"
     ]
    }
   ],
   "source": [
    "prompt = \"\\nPlease enter the name of a city you have visited:\"\n",
    "prompt += \"\\n(Enter 'quit' when you are finished.) \"\n",
    "while True:\n",
    "    city = input(prompt)\n",
    " \n",
    "    if city == 'quit':\n",
    "        break\n",
    "    else:\n",
    "        print(\"I'd love to go to \" + city.title() + \"!\")"
   ]
  },
  {
   "cell_type": "markdown",
   "id": "359a3504",
   "metadata": {},
   "source": [
    "# Using Continue in Loop\n",
    "\n",
    "Rather than breaking out of a loop entirely without executing the rest of its code, you can use the continue statement to return to the beginning of the loop based on the result of a conditional test."
   ]
  },
  {
   "cell_type": "code",
   "execution_count": 6,
   "id": "8f5d2a03",
   "metadata": {},
   "outputs": [
    {
     "name": "stdout",
     "output_type": "stream",
     "text": [
      "1\n",
      "3\n",
      "5\n",
      "7\n",
      "9\n"
     ]
    }
   ],
   "source": [
    "current_number = 0\n",
    "while current_number < 10:\n",
    "    current_number += 1\n",
    "    if current_number % 2 == 0:\n",
    "        continue\n",
    "    print(current_number)"
   ]
  },
  {
   "cell_type": "markdown",
   "id": "1279069f",
   "metadata": {},
   "source": [
    "# Avoiding Infinite Loops\n",
    "\n",
    "Every while loop needs a way to stop running so it won't continue to run forever."
   ]
  }
 ],
 "metadata": {
  "kernelspec": {
   "display_name": "Python 3 (ipykernel)",
   "language": "python",
   "name": "python3"
  },
  "language_info": {
   "codemirror_mode": {
    "name": "ipython",
    "version": 3
   },
   "file_extension": ".py",
   "mimetype": "text/x-python",
   "name": "python",
   "nbconvert_exporter": "python",
   "pygments_lexer": "ipython3",
   "version": "3.10.0"
  }
 },
 "nbformat": 4,
 "nbformat_minor": 5
}
