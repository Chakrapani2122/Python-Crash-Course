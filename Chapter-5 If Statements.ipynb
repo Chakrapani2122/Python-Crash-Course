{
 "cells": [
  {
   "cell_type": "markdown",
   "id": "06a77737",
   "metadata": {},
   "source": [
    "# IF STATEMENTS"
   ]
  },
  {
   "cell_type": "markdown",
   "id": "da241896",
   "metadata": {},
   "source": [
    "Pogramming often involves examining a set of onditions ans deciding which action to take based on those conditions. Python's if statement allows you to examine the current state of a program and respond appropritely to that state."
   ]
  },
  {
   "cell_type": "markdown",
   "id": "23ff2fdc",
   "metadata": {},
   "source": [
    "At the heart of every if statement is an expression that can be evaluated as True or False and is called conditional test. Python uses the values True or False to decide whether the code in an if statement should be executed. If a conditional test evaluates to be True, Python executes the code in if statement. If it evaluates to be False, Python ignores the code in if statement."
   ]
  },
  {
   "cell_type": "markdown",
   "id": "dbf7a48a",
   "metadata": {},
   "source": [
    "Testing for equality is case sensitive 'Audi' and 'audi' evaluates to be False. A singl eequal sign assigns the value to the variable where as double equals to checks the equality of the two terms."
   ]
  },
  {
   "cell_type": "markdown",
   "id": "ec6e5bf0",
   "metadata": {},
   "source": [
    "!= : used as not equals to "
   ]
  },
  {
   "cell_type": "code",
   "execution_count": 1,
   "id": "55b843b8",
   "metadata": {},
   "outputs": [
    {
     "name": "stdout",
     "output_type": "stream",
     "text": [
      "Audi\n",
      "BMW\n",
      "Subaru\n",
      "Toyota\n"
     ]
    }
   ],
   "source": [
    "cars = ['audi', 'bmw', 'subaru', 'toyota']\n",
    "for car in cars:\n",
    "    if car == 'bmw':\n",
    "         print(car.upper())\n",
    "    else:\n",
    "        print(car.title())"
   ]
  },
  {
   "cell_type": "code",
   "execution_count": 2,
   "id": "ff966968",
   "metadata": {},
   "outputs": [
    {
     "name": "stdout",
     "output_type": "stream",
     "text": [
      "AUDI\n",
      "Bmw\n",
      "SUBARU\n",
      "TOYOTA\n"
     ]
    }
   ],
   "source": [
    "cars = ['audi', 'bmw', 'subaru', 'toyota']\n",
    "for car in cars:\n",
    "    if car != 'bmw':\n",
    "         print(car.upper())\n",
    "    else:\n",
    "        print(car.title())"
   ]
  },
  {
   "cell_type": "markdown",
   "id": "9c4e8487",
   "metadata": {},
   "source": [
    "# Multiple Conditions\n",
    "\n",
    "* condition1 and condition2 : evaluates to be True if both condition1 and condition2 evaluates to True. Otherwise evaluates to be False.\n",
    "\n",
    "* condition1 or condition2 : Evaluates to be False if both condition1 and condition2 evaluates to be False, Otherwise evaluates to be True."
   ]
  },
  {
   "cell_type": "code",
   "execution_count": 4,
   "id": "062a0e46",
   "metadata": {},
   "outputs": [
    {
     "name": "stdout",
     "output_type": "stream",
     "text": [
      "False\n",
      "True\n"
     ]
    }
   ],
   "source": [
    "age_0 = 22 \n",
    "age_1 = 18 \n",
    "print(age_0 >= 21 and age_1 >= 21)\n",
    "print(age_0>= 21 and age_1 <= 21)"
   ]
  },
  {
   "cell_type": "code",
   "execution_count": 6,
   "id": "4cf0c48a",
   "metadata": {},
   "outputs": [
    {
     "name": "stdout",
     "output_type": "stream",
     "text": [
      "True\n",
      "False\n"
     ]
    }
   ],
   "source": [
    "age_0 = 22 \n",
    "age_1 = 18 \n",
    "print(age_0 >= 21 or age_1 >= 21)\n",
    "print(age_0<= 21 or age_1 >= 21)"
   ]
  },
  {
   "cell_type": "markdown",
   "id": "2245768e",
   "metadata": {},
   "source": [
    "* in : checking the presence of an element in a list."
   ]
  },
  {
   "cell_type": "code",
   "execution_count": 8,
   "id": "dcb33dd3",
   "metadata": {},
   "outputs": [
    {
     "name": "stdout",
     "output_type": "stream",
     "text": [
      "True\n",
      "False\n"
     ]
    }
   ],
   "source": [
    "requested_toppings = ['mushrooms', 'onions', 'pineapple']\n",
    "print('mushrooms' in requested_toppings)\n",
    "print('pepperoni' in requested_toppings)"
   ]
  },
  {
   "cell_type": "markdown",
   "id": "f51a18f3",
   "metadata": {},
   "source": [
    "* not in : checks the impresence of a element in a list."
   ]
  },
  {
   "cell_type": "code",
   "execution_count": 9,
   "id": "8629a09e",
   "metadata": {},
   "outputs": [
    {
     "name": "stdout",
     "output_type": "stream",
     "text": [
      "Marie, you can post a response if you wish.\n"
     ]
    }
   ],
   "source": [
    "banned_users = ['andrew', 'carolina', 'david']\n",
    "user = 'marie'\n",
    "if user not in banned_users:\n",
    "    print(user.title() + \", you can post a response if you wish.\")"
   ]
  },
  {
   "cell_type": "markdown",
   "id": "13bcd7fb",
   "metadata": {},
   "source": [
    "# Simple if Statement"
   ]
  },
  {
   "cell_type": "code",
   "execution_count": 10,
   "id": "2a411879",
   "metadata": {},
   "outputs": [
    {
     "name": "stdout",
     "output_type": "stream",
     "text": [
      "You are old enough to vote!\n"
     ]
    }
   ],
   "source": [
    "age = 19\n",
    "if age >= 18:\n",
    "    print(\"You are old enough to vote!\")"
   ]
  },
  {
   "cell_type": "markdown",
   "id": "b1e5886d",
   "metadata": {},
   "source": [
    "# if-else statements"
   ]
  },
  {
   "cell_type": "code",
   "execution_count": 11,
   "id": "19d5630d",
   "metadata": {},
   "outputs": [
    {
     "name": "stdout",
     "output_type": "stream",
     "text": [
      "Sorry, you are too young to vote.\n",
      "Please register to vote as soon as you turn 18!\n"
     ]
    }
   ],
   "source": [
    "age = 17\n",
    "if age >= 18:\n",
    "    print(\"You are old enough to vote!\")\n",
    "    print(\"Have you registered to vote yet?\")\n",
    "else:\n",
    "    print(\"Sorry, you are too young to vote.\")\n",
    "    print(\"Please register to vote as soon as you turn 18!\")"
   ]
  },
  {
   "cell_type": "markdown",
   "id": "c0d0c7f6",
   "metadata": {},
   "source": [
    "# The if-elif-else Chain"
   ]
  },
  {
   "cell_type": "code",
   "execution_count": 12,
   "id": "dcc3d795",
   "metadata": {},
   "outputs": [
    {
     "name": "stdout",
     "output_type": "stream",
     "text": [
      "Your admission cost is $5.\n"
     ]
    }
   ],
   "source": [
    "age = 12\n",
    "if age < 4:\n",
    "    print(\"Your admission cost is $0.\")\n",
    "elif age < 18:\n",
    "    print(\"Your admission cost is $5.\")\n",
    "else:\n",
    "    print(\"Your admission cost is $10.\")"
   ]
  },
  {
   "cell_type": "markdown",
   "id": "078fc7a1",
   "metadata": {},
   "source": [
    "PEP8 recommends to use a single space around comparison operators\n",
    "if age < 4:\n",
    "is better than\n",
    "if age<4:"
   ]
  }
 ],
 "metadata": {
  "kernelspec": {
   "display_name": "Python 3 (ipykernel)",
   "language": "python",
   "name": "python3"
  },
  "language_info": {
   "codemirror_mode": {
    "name": "ipython",
    "version": 3
   },
   "file_extension": ".py",
   "mimetype": "text/x-python",
   "name": "python",
   "nbconvert_exporter": "python",
   "pygments_lexer": "ipython3",
   "version": "3.10.0"
  }
 },
 "nbformat": 4,
 "nbformat_minor": 5
}
