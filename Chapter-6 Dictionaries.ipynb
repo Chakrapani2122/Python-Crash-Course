{
 "cells": [
  {
   "cell_type": "markdown",
   "id": "488add08",
   "metadata": {},
   "source": [
    "# Dictionaries"
   ]
  },
  {
   "cell_type": "markdown",
   "id": "97069abd",
   "metadata": {},
   "source": [
    "A dictionary in Python is a collection of key-value pairs. Each key is connected to a value, and we can use a key access the value associated with that key.\n",
    "\n",
    "In Python, a dictioanry is wrapped in braces { }, with a series of key-value pairs inside the braces.\n",
    "\n",
    "Every key is connected to its value by a coln, individual key-value pairs are separated by commas."
   ]
  },
  {
   "cell_type": "code",
   "execution_count": 1,
   "id": "84c66f6a",
   "metadata": {},
   "outputs": [
    {
     "name": "stdout",
     "output_type": "stream",
     "text": [
      "green\n",
      "5\n"
     ]
    }
   ],
   "source": [
    "alien_0 = {'color': 'green', 'points': 5}\n",
    "print(alien_0['color'])\n",
    "print(alien_0['points'])"
   ]
  },
  {
   "cell_type": "markdown",
   "id": "b9777541",
   "metadata": {},
   "source": [
    "# Accessing Values in a Dictionary\n",
    "\n",
    "To get the value associated with a key, give the name of the dictionary and then place the key inside a set of square brackets."
   ]
  },
  {
   "cell_type": "code",
   "execution_count": 2,
   "id": "ac2607ec",
   "metadata": {},
   "outputs": [
    {
     "name": "stdout",
     "output_type": "stream",
     "text": [
      "green\n"
     ]
    }
   ],
   "source": [
    "alien_0 = {'color': 'green'}\n",
    "print(alien_0['color'])"
   ]
  },
  {
   "cell_type": "markdown",
   "id": "efa2eb5a",
   "metadata": {},
   "source": [
    "# Adding New Key-Value Pairs\n",
    "\n",
    "Dictionaries are dynamic structures, you can add new key-value pairs to a dictionary by giving name of the dictionary followed by the new key in square brackets along with the new value."
   ]
  },
  {
   "cell_type": "code",
   "execution_count": 3,
   "id": "bf18d5de",
   "metadata": {},
   "outputs": [
    {
     "name": "stdout",
     "output_type": "stream",
     "text": [
      "{'color': 'green', 'points': 5}\n",
      "{'color': 'green', 'points': 5, 'x_position': 0, 'y_position': 25}\n"
     ]
    }
   ],
   "source": [
    "alien_0 = {'color': 'green', 'points': 5}\n",
    "print(alien_0)\n",
    "alien_0['x_position'] = 0\n",
    "alien_0['y_position'] = 25\n",
    "print(alien_0)"
   ]
  },
  {
   "cell_type": "markdown",
   "id": "fa9b6f3f",
   "metadata": {},
   "source": [
    "Dictionaries in Python is an unordered collection. The oreder of th ekey-value pairs may not be in the order in which we gave."
   ]
  },
  {
   "cell_type": "markdown",
   "id": "c9c35451",
   "metadata": {},
   "source": [
    "# Modifying Value in a Dictionary\n",
    "\n",
    "Give the name of the dictionary with the key in square brackets and then the new value you want to associated with that key."
   ]
  },
  {
   "cell_type": "code",
   "execution_count": 4,
   "id": "51de7481",
   "metadata": {},
   "outputs": [
    {
     "name": "stdout",
     "output_type": "stream",
     "text": [
      "The alien is green.\n",
      "The alien is now yellow.\n"
     ]
    }
   ],
   "source": [
    "alien_0 = {'color': 'green'}\n",
    "print(\"The alien is \" + alien_0['color'] + \".\")\n",
    "alien_0['color'] = 'yellow'\n",
    "print(\"The alien is now \" + alien_0['color'] + \".\")"
   ]
  },
  {
   "cell_type": "markdown",
   "id": "2c207542",
   "metadata": {},
   "source": [
    "# Removing Key-Value Pairs\n",
    "\n",
    "you can use del statement to completely remove a key-value pair. \n",
    "\n",
    "All del needs is the name of the dictionary and teh key that you want to remove."
   ]
  },
  {
   "cell_type": "code",
   "execution_count": 5,
   "id": "9072c01c",
   "metadata": {},
   "outputs": [
    {
     "name": "stdout",
     "output_type": "stream",
     "text": [
      "{'color': 'green', 'points': 5}\n",
      "{'color': 'green'}\n"
     ]
    }
   ],
   "source": [
    "alien_0 = {'color': 'green', 'points': 5}\n",
    "print(alien_0)\n",
    "del alien_0['points']\n",
    "print(alien_0)"
   ]
  },
  {
   "cell_type": "markdown",
   "id": "26cfea24",
   "metadata": {},
   "source": [
    "NOTE: Be aware that the deleted key-value pair is removed permanently."
   ]
  },
  {
   "cell_type": "markdown",
   "id": "a9ee4f97",
   "metadata": {},
   "source": [
    "# Looping Through All Key-Value Pairs"
   ]
  },
  {
   "cell_type": "markdown",
   "id": "6ae21575",
   "metadata": {},
   "source": [
    "# dict.items()"
   ]
  },
  {
   "cell_type": "code",
   "execution_count": 13,
   "id": "e3b87716",
   "metadata": {},
   "outputs": [
    {
     "name": "stdout",
     "output_type": "stream",
     "text": [
      "Jen's favorite language is Python.\n",
      "Sarah's favorite language is C.\n",
      "Edward's favorite language is Ruby.\n",
      "Phil's favorite language is Python.\n"
     ]
    }
   ],
   "source": [
    "favorite_languages = {\n",
    " 'jen': 'python',\n",
    " 'sarah': 'c',\n",
    " 'edward': 'ruby',\n",
    " 'phil': 'python',\n",
    " }\n",
    "for key, val in favorite_languages.items():\n",
    "    print(key.title() + \"'s\" + \" favorite language is \" + val.title()+\".\")"
   ]
  },
  {
   "cell_type": "markdown",
   "id": "db65ad27",
   "metadata": {},
   "source": [
    "# dict.keys()"
   ]
  },
  {
   "cell_type": "code",
   "execution_count": 14,
   "id": "2dcc67f3",
   "metadata": {},
   "outputs": [
    {
     "name": "stdout",
     "output_type": "stream",
     "text": [
      "jen\n",
      "sarah\n",
      "edward\n",
      "phil\n"
     ]
    }
   ],
   "source": [
    "favorite_languages = {\n",
    " 'jen': 'python',\n",
    " 'sarah': 'c',\n",
    " 'edward': 'ruby',\n",
    " 'phil': 'python',\n",
    " }\n",
    "for k in favorite_languages.keys():\n",
    "    print(k)"
   ]
  },
  {
   "cell_type": "markdown",
   "id": "84a99aba",
   "metadata": {},
   "source": [
    "# dict.values()"
   ]
  },
  {
   "cell_type": "code",
   "execution_count": 15,
   "id": "edc079ab",
   "metadata": {},
   "outputs": [
    {
     "name": "stdout",
     "output_type": "stream",
     "text": [
      "python\n",
      "c\n",
      "ruby\n",
      "python\n"
     ]
    }
   ],
   "source": [
    "favorite_languages = {\n",
    " 'jen': 'python',\n",
    " 'sarah': 'c',\n",
    " 'edward': 'ruby',\n",
    " 'phil': 'python',\n",
    " }\n",
    "for val in favorite_languages.values():\n",
    "    print(val)"
   ]
  },
  {
   "cell_type": "markdown",
   "id": "f0a6a928",
   "metadata": {},
   "source": [
    "# Nesting\n",
    "\n",
    "Storing a set of dictionaries in a list or a list of items as a value in a dictioanry. This is called nesting."
   ]
  },
  {
   "cell_type": "markdown",
   "id": "b61c62e5",
   "metadata": {},
   "source": [
    "# A List of Dictionaries"
   ]
  },
  {
   "cell_type": "code",
   "execution_count": 16,
   "id": "512f0aff",
   "metadata": {},
   "outputs": [
    {
     "name": "stdout",
     "output_type": "stream",
     "text": [
      "{'color': 'green', 'points': 5}\n",
      "{'color': 'yellow', 'points': 10}\n",
      "{'color': 'red', 'points': 15}\n"
     ]
    }
   ],
   "source": [
    "alien_0 = {'color': 'green', 'points': 5}\n",
    "alien_1 = {'color': 'yellow', 'points': 10}\n",
    "alien_2 = {'color': 'red', 'points': 15}\n",
    "aliens = [alien_0, alien_1, alien_2]\n",
    "for alien in aliens:\n",
    "    print(alien)"
   ]
  },
  {
   "cell_type": "markdown",
   "id": "81ec970e",
   "metadata": {},
   "source": [
    "# A Dictionary in a Dictionary"
   ]
  },
  {
   "cell_type": "code",
   "execution_count": 18,
   "id": "00854084",
   "metadata": {},
   "outputs": [
    {
     "name": "stdout",
     "output_type": "stream",
     "text": [
      "\n",
      "Username: aeinstein\n",
      "\tFull name: Albert Einstein\n",
      "\tLocation: Princeton\n",
      "\n",
      "Username: mcurie\n",
      "\tFull name: Marie Curie\n",
      "\tLocation: Paris\n"
     ]
    }
   ],
   "source": [
    "users = {\n",
    " 'aeinstein': {\n",
    " 'first': 'albert',\n",
    " 'last': 'einstein',\n",
    " 'location': 'princeton',\n",
    " },\n",
    "\n",
    " 'mcurie': {\n",
    " 'first': 'marie',\n",
    " 'last': 'curie',\n",
    " 'location': 'paris',\n",
    " },\n",
    " }\n",
    "for username, user_info in users.items():\n",
    "    print(\"\\nUsername: \" + username)\n",
    "    full_name = user_info['first'] + \" \" + user_info['last']\n",
    "    location = user_info['location']\n",
    "    print(\"\\tFull name: \" + full_name.title())\n",
    "    print(\"\\tLocation: \" + location.title())"
   ]
  }
 ],
 "metadata": {
  "kernelspec": {
   "display_name": "Python 3 (ipykernel)",
   "language": "python",
   "name": "python3"
  },
  "language_info": {
   "codemirror_mode": {
    "name": "ipython",
    "version": 3
   },
   "file_extension": ".py",
   "mimetype": "text/x-python",
   "name": "python",
   "nbconvert_exporter": "python",
   "pygments_lexer": "ipython3",
   "version": "3.10.0"
  }
 },
 "nbformat": 4,
 "nbformat_minor": 5
}
