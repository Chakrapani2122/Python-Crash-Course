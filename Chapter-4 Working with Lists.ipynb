{
 "cells": [
  {
   "cell_type": "markdown",
   "id": "a426d6a2",
   "metadata": {},
   "source": [
    "# Working with Lists"
   ]
  },
  {
   "cell_type": "markdown",
   "id": "77e77482",
   "metadata": {},
   "source": [
    "# Looping through an Entire List\n",
    "\n",
    "Iterating through every element in the list is known as Looping."
   ]
  },
  {
   "cell_type": "code",
   "execution_count": 3,
   "id": "f64727f4",
   "metadata": {},
   "outputs": [
    {
     "name": "stdout",
     "output_type": "stream",
     "text": [
      "alice\n",
      "david\n",
      "carolina\n"
     ]
    }
   ],
   "source": [
    "magicians = ['alice', 'david', 'carolina'] \n",
    "for magician in magicians: \n",
    "    print(magician)"
   ]
  },
  {
   "cell_type": "markdown",
   "id": "cf37fae6",
   "metadata": {},
   "source": [
    "You can name the temporary variable with any name, It works. It is helpful to choose a meaningful name."
   ]
  },
  {
   "cell_type": "markdown",
   "id": "a8bca7c4",
   "metadata": {},
   "source": [
    "# Avoiding Indentation Errors\n",
    "\n",
    "Python uses indentation to determine when one line of code is connected to the line above it. It determines the block of code, and also makes easy to read and understand.  The indentation levels helps gain a general sense of the overall program's organization.\n",
    "If the indentation is not given correctly Python throughs an Indentation Error.\n",
    "\n",
    "* Always indent the line after the for statement.\n",
    "* Do not indent the lines unnecessarily.\n",
    "\n",
    "The colon at the end of the for statement tells Python to interpret the next line as the start of a loop.\n",
    "Forgetting the colon throughs an error."
   ]
  },
  {
   "cell_type": "code",
   "execution_count": 4,
   "id": "3b43e86d",
   "metadata": {},
   "outputs": [
    {
     "ename": "SyntaxError",
     "evalue": "expected ':' (1506583075.py, line 2)",
     "output_type": "error",
     "traceback": [
      "\u001b[1;36m  Input \u001b[1;32mIn [4]\u001b[1;36m\u001b[0m\n\u001b[1;33m    for magician in magicians\u001b[0m\n\u001b[1;37m                             ^\u001b[0m\n\u001b[1;31mSyntaxError\u001b[0m\u001b[1;31m:\u001b[0m expected ':'\n"
     ]
    }
   ],
   "source": [
    "magicians = ['alice', 'david', 'carolina'] \n",
    "for magician in magicians\n",
    "    print(magician)"
   ]
  },
  {
   "cell_type": "markdown",
   "id": "b5ec8ebd",
   "metadata": {},
   "source": [
    "# Making Numerical Lists\n",
    "\n",
    "Python's range() function makes it easy to generate series of numbers.\n",
    "\n",
    "* range(start, end, step) : generates list of number from start to end with skipping the step number of elements."
   ]
  },
  {
   "cell_type": "code",
   "execution_count": null,
   "id": "146c5c4a",
   "metadata": {},
   "outputs": [],
   "source": [
    "for value in range(1,5): # starts with 1 (included) and ends with 5 (excluded)\n",
    "    print(value)"
   ]
  },
  {
   "cell_type": "markdown",
   "id": "7ba2a4f1",
   "metadata": {},
   "source": [
    "# Program for Even Numbers"
   ]
  },
  {
   "cell_type": "code",
   "execution_count": null,
   "id": "a4f5d4f2",
   "metadata": {},
   "outputs": [],
   "source": [
    "number = list(range(0,6,2))\n",
    "print(number)"
   ]
  },
  {
   "cell_type": "markdown",
   "id": "b8f2a17e",
   "metadata": {},
   "source": [
    "# Program for Odd Numbers"
   ]
  },
  {
   "cell_type": "code",
   "execution_count": null,
   "id": "f699130c",
   "metadata": {},
   "outputs": [],
   "source": [
    "number = list(range(1,6,2))\n",
    "print(number)"
   ]
  },
  {
   "cell_type": "markdown",
   "id": "e8c0ae53",
   "metadata": {},
   "source": [
    "# Simple Statistics with a List of Numbers\n",
    "\n",
    "Python provides some built-in functions to use.\n",
    "* min(digits) : returns the minimum number from the didgits.\n",
    "* max(digits) : returns the maximum number from the digits.\n",
    "* sum(digits) : returns the sum of the digits."
   ]
  },
  {
   "cell_type": "code",
   "execution_count": null,
   "id": "2ce998da",
   "metadata": {},
   "outputs": [],
   "source": [
    "digits=[1,2,3,4,5,6,7,8,9]\n",
    "print(max(digits))\n",
    "print(min(digits))\n",
    "print(sum(digits))"
   ]
  },
  {
   "cell_type": "markdown",
   "id": "01b75400",
   "metadata": {},
   "source": [
    "# List Comprehensions\n",
    "\n",
    "List comprehenions reduces the number of lines of code to do a particular task.\n",
    "\n",
    "variable = [value_code for value in range(start, end)]\n"
   ]
  },
  {
   "cell_type": "code",
   "execution_count": null,
   "id": "25adb00f",
   "metadata": {},
   "outputs": [],
   "source": [
    "squares = [i**2 for i in range(1,6)]\n",
    "print(squares)"
   ]
  },
  {
   "cell_type": "markdown",
   "id": "7c2f093e",
   "metadata": {},
   "source": [
    "# Copying a List\n",
    "\n",
    "You can make a slice of the existing list with all elements and store in the new list."
   ]
  },
  {
   "cell_type": "code",
   "execution_count": null,
   "id": "c34aea52",
   "metadata": {},
   "outputs": [],
   "source": [
    "my_foods=['pizza', 'falafel','carrot cake']\n",
    "frnd_foods = my_foods[:]\n",
    "print(frnd_foods)"
   ]
  },
  {
   "cell_type": "markdown",
   "id": "fbb276c6",
   "metadata": {},
   "source": [
    "frnd_foods = my_foods \n",
    "\n",
    "This does not produce two separete lists, but both llist objects ponints to single list. Changes will affect on both list objects."
   ]
  },
  {
   "cell_type": "markdown",
   "id": "ee1f5993",
   "metadata": {},
   "source": [
    "* list.copy() : This method create a copy of the list."
   ]
  },
  {
   "cell_type": "code",
   "execution_count": null,
   "id": "4d3589f9",
   "metadata": {},
   "outputs": [],
   "source": [
    "my_foods=['pizza', 'falafel','carrot cake']\n",
    "frnd_foods=my_foods.copy()\n",
    "print(frnd_foods)"
   ]
  },
  {
   "cell_type": "markdown",
   "id": "a1d357ab",
   "metadata": {},
   "source": [
    "# Tuples\n",
    "\n",
    "Tuples are similar to lists in python, but Tuples are immutable : The tuples cannot be changed.\n",
    "\n",
    "Tuples are declared using paranthesis ()"
   ]
  },
  {
   "cell_type": "code",
   "execution_count": null,
   "id": "c030872a",
   "metadata": {},
   "outputs": [],
   "source": [
    "dimensions = (200,50)\n",
    "dimensions[0] = 250 # Tuples are immutables. so this ststement throughs an error"
   ]
  },
  {
   "cell_type": "markdown",
   "id": "3e49c84a",
   "metadata": {},
   "source": [
    "# Writing over a Tuple\n",
    "\n",
    "We can modify a tuple by redefining the tuple."
   ]
  },
  {
   "cell_type": "code",
   "execution_count": null,
   "id": "beaffbcc",
   "metadata": {},
   "outputs": [],
   "source": [
    "dimensions = (200,50)\n",
    "print(dimensions)\n",
    "dimensions = (250,100)\n",
    "print(dimensions)"
   ]
  },
  {
   "cell_type": "markdown",
   "id": "115394bb",
   "metadata": {},
   "source": [
    "# Styling Your Code\n",
    "\n",
    "* PEP : Python Enhancement Proposal\n",
    "\n",
    "* PEP8 instructs programmers on how to style their code. PEP8 is fairly leangthy.\n",
    "\n",
    "* The written program should be easy to read and understand, as we write code once and read it many times. When we share our code to others, it should be understandable it all.\n",
    "\n",
    "* PEP8 recommends to use four spaces or a tab space per indentation level. Python interpreter confuses when tabs are mixed with spaces. Mixing tabs and spaces can cause problems that are difficult to diagnose. Most af the code editors will have the option of using tabs which will later convert into specified spaces.\n",
    "\n",
    "* Many Python programmers recommend that each line should be less than 80 characters. PEP8 also recommend to use 72 characters per line.\n",
    "\n",
    "* Blank lines wont affect the program, it is recommended to use blank line between some lines of code to separate the code with does a specific task, for readability. Do not use excessive blank lines.\n",
    "* "
   ]
  }
 ],
 "metadata": {
  "kernelspec": {
   "display_name": "Python 3 (ipykernel)",
   "language": "python",
   "name": "python3"
  },
  "language_info": {
   "codemirror_mode": {
    "name": "ipython",
    "version": 3
   },
   "file_extension": ".py",
   "mimetype": "text/x-python",
   "name": "python",
   "nbconvert_exporter": "python",
   "pygments_lexer": "ipython3",
   "version": "3.10.0"
  }
 },
 "nbformat": 4,
 "nbformat_minor": 5
}
