{
 "cells": [
  {
   "cell_type": "markdown",
   "id": "b55e28e1",
   "metadata": {},
   "source": [
    "# CHAPTER-II"
   ]
  },
  {
   "cell_type": "markdown",
   "id": "bd46ec98",
   "metadata": {},
   "source": [
    "# VARIABLES AND SIMPLE DATA TYPES"
   ]
  },
  {
   "cell_type": "markdown",
   "id": "e6824f3d",
   "metadata": {},
   "source": [
    "filename.py \n",
    "The exxtention .py indicates that the file is a Python program.\n"
   ]
  },
  {
   "cell_type": "markdown",
   "id": "50aa4b91",
   "metadata": {},
   "source": [
    "# VARIABLES"
   ]
  },
  {
   "cell_type": "code",
   "execution_count": 1,
   "id": "4797887b",
   "metadata": {},
   "outputs": [
    {
     "name": "stdout",
     "output_type": "stream",
     "text": [
      "Hello Python!\n"
     ]
    }
   ],
   "source": [
    "message=\"Hello Python!\"\n",
    "print(message)"
   ]
  },
  {
   "cell_type": "markdown",
   "id": "1a46f456",
   "metadata": {},
   "source": [
    "In the above program message is a variable which hold the value Hello Python!.\n",
    "You can change the value of variable at any time, Python will always keep track of its current value."
   ]
  },
  {
   "cell_type": "markdown",
   "id": "11850674",
   "metadata": {},
   "source": [
    "# NAMING AND USING VARIABLES\n",
    "\n",
    "There are somme rules to be followed while naming a variable. Breaking these rules will cause errors."
   ]
  },
  {
   "cell_type": "markdown",
   "id": "5479e362",
   "metadata": {},
   "source": [
    "* Variable names can contain only letters, numbers, underscore.\n",
    "* It can start with a letter or underscore but not with a number.\n",
    "* Spaces are not allowed in variable names, underscores are used to separate words in variable names.\n",
    "* Do not use keywords and function names as variable names.\n",
    "* They should be short and descriptive.\n",
    "* Variable names in pyhton are case sensitive."
   ]
  },
  {
   "cell_type": "markdown",
   "id": "5b5b756c",
   "metadata": {},
   "source": [
    "# STRINGS"
   ]
  },
  {
   "cell_type": "markdown",
   "id": "b528b27b",
   "metadata": {},
   "source": [
    "A string is a series of characters. Anything inside single or double quotes is considered as a string in python.\n",
    "\n",
    "# METHODS\n",
    "\n",
    "A method is an action that Pytho perform on a piece of data.\n",
    "The dot operator after the data tells python that the method acts on that data.\n",
    "\n",
    "str.title() : Each words begins with a capital letter"
   ]
  },
  {
   "cell_type": "code",
   "execution_count": 2,
   "id": "33d94605",
   "metadata": {},
   "outputs": [
    {
     "name": "stdout",
     "output_type": "stream",
     "text": [
      "bob marley\n",
      "Bob Marley\n"
     ]
    }
   ],
   "source": [
    "name='bob marley'\n",
    "print(name)\n",
    "print(name.title()) # title method is applied here"
   ]
  },
  {
   "cell_type": "markdown",
   "id": "1c1cb978",
   "metadata": {},
   "source": [
    "str.upper() : change a string to all upper case letters."
   ]
  },
  {
   "cell_type": "code",
   "execution_count": 3,
   "id": "d30545a9",
   "metadata": {},
   "outputs": [
    {
     "name": "stdout",
     "output_type": "stream",
     "text": [
      "bob marley\n",
      "BOB MARLEY\n"
     ]
    }
   ],
   "source": [
    "name='bob marley'\n",
    "print(name)\n",
    "print(name.upper()) # upper method is applied here"
   ]
  },
  {
   "cell_type": "markdown",
   "id": "1e66cc3f",
   "metadata": {},
   "source": [
    "str.lower() : changes a string to all lower case letters."
   ]
  },
  {
   "cell_type": "code",
   "execution_count": 4,
   "id": "8ed9b278",
   "metadata": {},
   "outputs": [
    {
     "name": "stdout",
     "output_type": "stream",
     "text": [
      "BoB MarLey\n",
      "bob marley\n"
     ]
    }
   ],
   "source": [
    "name='BoB MarLey'\n",
    "print(name)\n",
    "print(name.lower()) # lower method is applied here"
   ]
  },
  {
   "cell_type": "markdown",
   "id": "52373e59",
   "metadata": {},
   "source": [
    "# CONCATENATION\n",
    "\n",
    "Python uses + symbol to combine strings. "
   ]
  },
  {
   "cell_type": "code",
   "execution_count": 5,
   "id": "8a4e3fbb",
   "metadata": {},
   "outputs": [
    {
     "name": "stdout",
     "output_type": "stream",
     "text": [
      "ada lovelace\n"
     ]
    }
   ],
   "source": [
    "first_name = \"ada\"\n",
    "last_name = \"lovelace\"\n",
    "full_name = first_name + \" \" + last_name\n",
    "print(full_name)"
   ]
  },
  {
   "cell_type": "markdown",
   "id": "76997343",
   "metadata": {},
   "source": [
    "# ADDING WHITESPACE TO STRINGS WITH TABS OR NEWLINES\n",
    "\n",
    "To add a tab to the text, use the character combination \\t.\n",
    "To add a newline to the text, use the character combination \\n"
   ]
  },
  {
   "cell_type": "code",
   "execution_count": 6,
   "id": "175fe97c",
   "metadata": {},
   "outputs": [
    {
     "name": "stdout",
     "output_type": "stream",
     "text": [
      "Hello\tWorld!\n",
      "Hello\n",
      "World!\n"
     ]
    }
   ],
   "source": [
    "print(\"Hello\\tWorld!\") # tab space\n",
    "print(\"Hello\\nWorld!\") # new line character"
   ]
  },
  {
   "cell_type": "markdown",
   "id": "653aeb47",
   "metadata": {},
   "source": [
    "# STRIPING WHITESPACE\n",
    "\n",
    "In Python whitespace matters alot. 'python' and 'python ' both seems to be the same, but python sees them both different because of the whitespace at the end of the latter one. The whitespacce will be more cofusing sometimes.\n",
    "There are some functions to handle whitespaces in python.\n",
    "\n",
    "str.rstrip() : Ensures that no whitespace exists at the right end of the string.\n",
    "str.lstrip() : Ensures that no whitespace exists at the left end of the string.\n",
    "str.strip() : Ensures that no whitespace exists at both sides of the string."
   ]
  },
  {
   "cell_type": "code",
   "execution_count": 7,
   "id": "75f7cb74",
   "metadata": {},
   "outputs": [
    {
     "name": "stdout",
     "output_type": "stream",
     "text": [
      "python\n",
      "python\n",
      "python\n"
     ]
    }
   ],
   "source": [
    "right='python '\n",
    "left = ' python'\n",
    "full =' python '\n",
    "print(right.rstrip())\n",
    "print(left.lstrip())\n",
    "print(full.strip())"
   ]
  },
  {
   "cell_type": "markdown",
   "id": "cd5018d3",
   "metadata": {},
   "source": [
    "# AVOIDING SYNTAX ERRORS WITH STRINGS\n",
    "\n",
    "A syntax error occurs when Python doen't recognize a section of your program as valid python code.\n",
    "\n",
    "One situation when this accors in python is at apostrophe in the string.\n",
    "\n",
    "1. If the apostrophe inside double quotes, there will be no trouble for python to read it.\n",
    "2. If the apostrophe inside the single quotes, Python can't identify where the string should end."
   ]
  },
  {
   "cell_type": "code",
   "execution_count": 8,
   "id": "1ee5d65a",
   "metadata": {},
   "outputs": [
    {
     "name": "stdout",
     "output_type": "stream",
     "text": [
      "Python's strength is its diverse community\n"
     ]
    }
   ],
   "source": [
    "print(\"Python's strength is its diverse community\") # No error"
   ]
  },
  {
   "cell_type": "code",
   "execution_count": 9,
   "id": "d7250a72",
   "metadata": {},
   "outputs": [
    {
     "ename": "SyntaxError",
     "evalue": "unterminated string literal (detected at line 1) (1659971388.py, line 1)",
     "output_type": "error",
     "traceback": [
      "\u001b[1;36m  Input \u001b[1;32mIn [9]\u001b[1;36m\u001b[0m\n\u001b[1;33m    print('Python's strength is its diverse community') # shows syntax error\u001b[0m\n\u001b[1;37m                                                     ^\u001b[0m\n\u001b[1;31mSyntaxError\u001b[0m\u001b[1;31m:\u001b[0m unterminated string literal (detected at line 1)\n"
     ]
    }
   ],
   "source": [
    "print('Python's strength is its diverse community') # shows syntax error"
   ]
  },
  {
   "cell_type": "markdown",
   "id": "4342948f",
   "metadata": {},
   "source": [
    "# NUMBERS"
   ]
  },
  {
   "cell_type": "markdown",
   "id": "9d1c314a",
   "metadata": {},
   "source": [
    "Python treats numbers in different ways, depending on how they are being used.\n",
    "Arithmetic opertors are used to manipulate numbers\n",
    "+ : Addition\n",
    "- : Subtraction\n",
    "* : Multiplication\n",
    "/ : division\n",
    "// : Floor Division\n",
    "% : Modules ( Returns remainder)\n",
    "** : Power"
   ]
  },
  {
   "cell_type": "code",
   "execution_count": null,
   "id": "93b4e236",
   "metadata": {},
   "outputs": [],
   "source": [
    "print(2+3)\n",
    "print(5-2)\n",
    "print(2*3)\n",
    "print(5/2)\n",
    "print(5//2)\n",
    "print(5%3)\n",
    "print(3**4)"
   ]
  },
  {
   "cell_type": "markdown",
   "id": "835f5551",
   "metadata": {},
   "source": [
    "# FLOATS\n",
    "\n",
    "A number with a decimal point is a float in python."
   ]
  },
  {
   "cell_type": "markdown",
   "id": "b5455d80",
   "metadata": {},
   "source": [
    "# AVOIDING TYPE ERRORS WITH str() FUNCTION\n",
    "\n",
    "when we use different data type in concatenation with string, python throughs an error. To handle this type casting functions are avilable in python.\n",
    "str() : converts to string type\n",
    "int() : converts to integer type\n",
    "float() : converts to float type\n",
    "bool() : converts to boolean type\n",
    "double() : convert to double type\n",
    "\n",
    "Explicit type casting"
   ]
  },
  {
   "cell_type": "code",
   "execution_count": null,
   "id": "71f41155",
   "metadata": {},
   "outputs": [],
   "source": [
    "age = 23\n",
    "message = \"Happy \"+ age + \"rd Birthday!\"\n",
    "print(message) # throughs an error"
   ]
  },
  {
   "cell_type": "markdown",
   "id": "ee316c75",
   "metadata": {},
   "source": [
    "Type Error: This means Python can't understand the kind of information you're using. Python is not sure how to interpret integer with strings"
   ]
  },
  {
   "cell_type": "code",
   "execution_count": null,
   "id": "102fcf4a",
   "metadata": {},
   "outputs": [],
   "source": [
    "age = 23\n",
    "message = \"Happy \"+ str(age) + \"rd Birthday!\"\n",
    "print(message) # throughs no error"
   ]
  },
  {
   "cell_type": "markdown",
   "id": "cd8d44e3",
   "metadata": {},
   "source": [
    "In the above program Python knows that you want to convert 23 into a string 2 and 3."
   ]
  },
  {
   "cell_type": "markdown",
   "id": "836193d8",
   "metadata": {},
   "source": [
    "# COMMENTS"
   ]
  },
  {
   "cell_type": "markdown",
   "id": "feacb5e0",
   "metadata": {},
   "source": [
    "Comments are extremely useful feature in most of the programming languages. A comment allows us to write notes in English within your programs.\n",
    "\n",
    "In python comments can be written as\n",
    "\n",
    "Hashtag (#) : single line comments\n",
    "\n",
    "''' ''' or \"\"\" \"\"\" (triple quotes) : milti line comments\n",
    "\n",
    "Comments explain the what your code is supposed to do. I will help other programmers to know what a piece of code in your program do.\n",
    "\n",
    "Writing meaningful comments is a good habit of profrssional programmer to collaborate  with other programmers."
   ]
  },
  {
   "cell_type": "markdown",
   "id": "2823ae7b",
   "metadata": {},
   "source": [
    "# The Zen of Python"
   ]
  },
  {
   "cell_type": "markdown",
   "id": "71910462",
   "metadata": {},
   "source": [
    "The motto of Perl programming language community is \" There's more than one way to do it\". \n",
    "Experienced Python programmers will encourage to avoid complexity and aim for simplicity whenever possible.\n",
    "\n",
    "The Zen of Python by Tim Peters contains philosophy of Python community."
   ]
  },
  {
   "cell_type": "markdown",
   "id": "782eaf8f",
   "metadata": {},
   "source": [
    "* Beautiful is better than ugly.\n",
    "* Simple is better than complex.\n",
    "* Complex is better than complicated.\n",
    "* Readability counts.\n",
    "* There should be one -- and preferably only one -- obvious way to do it.\n",
    "* Now is better than never"
   ]
  }
 ],
 "metadata": {
  "kernelspec": {
   "display_name": "Python 3 (ipykernel)",
   "language": "python",
   "name": "python3"
  },
  "language_info": {
   "codemirror_mode": {
    "name": "ipython",
    "version": 3
   },
   "file_extension": ".py",
   "mimetype": "text/x-python",
   "name": "python",
   "nbconvert_exporter": "python",
   "pygments_lexer": "ipython3",
   "version": "3.10.0"
  }
 },
 "nbformat": 4,
 "nbformat_minor": 5
}
