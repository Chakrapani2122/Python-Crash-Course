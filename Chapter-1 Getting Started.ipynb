{
 "cells": [
  {
   "cell_type": "markdown",
   "id": "c749a8f5",
   "metadata": {},
   "source": [
    "# PYHTON CRASH COURSE "
   ]
  },
  {
   "cell_type": "markdown",
   "id": "087a7387",
   "metadata": {},
   "source": [
    "Author: Eric Matthes"
   ]
  },
  {
   "cell_type": "markdown",
   "id": "5d08c86a",
   "metadata": {},
   "source": [
    "# CHAPTER-I\n",
    "GETTING STARTED"
   ]
  },
  {
   "cell_type": "markdown",
   "id": "82404b64",
   "metadata": {},
   "source": [
    "Text Editors recognize Python code and highlight sections as we write, making it easy to understand the structure of our code."
   ]
  },
  {
   "cell_type": "markdown",
   "id": "98e19d4a",
   "metadata": {},
   "source": [
    "PYTHON VERSIONS\n",
    "\n",
    "Two versions of Python are available: Python 2 and Python 3. In some cases code written in Python2 may not run properly on systems with Python 3 installed."
   ]
  },
  {
   "cell_type": "markdown",
   "id": "c8617832",
   "metadata": {},
   "source": [
    "Running Snippets of Python Code\n",
    "\n",
    "Python comes with an interpreter that runs in a terminal window, allowing to run an entire program without saving."
   ]
  },
  {
   "cell_type": "code",
   "execution_count": 1,
   "id": "bb777e53",
   "metadata": {},
   "outputs": [
    {
     "name": "stdout",
     "output_type": "stream",
     "text": [
      "Hello Python Interpreter!\n"
     ]
    }
   ],
   "source": [
    "print(\"Hello Python Interpreter!\")"
   ]
  },
  {
   "cell_type": "markdown",
   "id": "25de0da3",
   "metadata": {},
   "source": [
    "PYTHON ON DIFFERENT OPERATING SYSTEMS\n",
    "\n",
    "Python is cross platform programming language, it runs on all major operating sytems."
   ]
  },
  {
   "cell_type": "markdown",
   "id": "ca9f6890",
   "metadata": {},
   "source": [
    "Type python on command prompt to see which version you are using on your machine. To exit from python prompt to terminal prompt enter exit() or by pressing Ctrl+D."
   ]
  },
  {
   "cell_type": "markdown",
   "id": "b156a2a1",
   "metadata": {},
   "source": [
    "NOTE: The Windows key on the keyboard is also called as Super key."
   ]
  },
  {
   "cell_type": "code",
   "execution_count": 2,
   "id": "e1e4702f",
   "metadata": {},
   "outputs": [
    {
     "name": "stdout",
     "output_type": "stream",
     "text": [
      "Hello World!\n"
     ]
    }
   ],
   "source": [
    "# Hello World Program in python.\n",
    "print(\"Hello World!\")\n",
    "#It prints Hello World! texxt in the output."
   ]
  },
  {
   "cell_type": "raw",
   "id": "4b5dfdd1",
   "metadata": {},
   "source": [
    ">>> represents Python prompt"
   ]
  },
  {
   "cell_type": "markdown",
   "id": "8e96df9d",
   "metadata": {},
   "source": [
    "RUNNING PYTHON PROGRAMS FROM A TERMNAL\n",
    "\n",
    "write the command below\n",
    "$ python <file name>.py\n",
    "and hit enter"
   ]
  },
  {
   "cell_type": "markdown",
   "id": "186e237c",
   "metadata": {},
   "source": [
    "cd command can be used to change the directory of the file in the command prompt.\n",
    "\n",
    "dir command shows the list of files in the current directory."
   ]
  }
 ],
 "metadata": {
  "kernelspec": {
   "display_name": "Python 3 (ipykernel)",
   "language": "python",
   "name": "python3"
  },
  "language_info": {
   "codemirror_mode": {
    "name": "ipython",
    "version": 3
   },
   "file_extension": ".py",
   "mimetype": "text/x-python",
   "name": "python",
   "nbconvert_exporter": "python",
   "pygments_lexer": "ipython3",
   "version": "3.10.0"
  }
 },
 "nbformat": 4,
 "nbformat_minor": 5
}
