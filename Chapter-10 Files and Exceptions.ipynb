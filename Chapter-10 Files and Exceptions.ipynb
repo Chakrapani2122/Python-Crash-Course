{
 "cells": [
  {
   "cell_type": "markdown",
   "id": "e248c95f",
   "metadata": {},
   "source": [
    "# FILES AND EXCEPTIONS\n",
    "\n",
    "# Reading from a File\n",
    "\n",
    "Reading fromma file is particularly useful in data analysis applications, but it's also applicable to any situation in which you want to analyze \n"
   ]
  },
  {
   "cell_type": "code",
   "execution_count": 2,
   "id": "2f45cc71",
   "metadata": {},
   "outputs": [
    {
     "name": "stdout",
     "output_type": "stream",
     "text": [
      "3.1415926535 \n",
      " 8979323846 \n",
      " 2643383279\n"
     ]
    }
   ],
   "source": [
    "with open('pi_digits.txt') as file_object:\n",
    "    contents = file_object.read()\n",
    "    print(contents)"
   ]
  },
  {
   "cell_type": "markdown",
   "id": "b23a4081",
   "metadata": {},
   "source": [
    "To make changes or even to read the contents of a file, First we need to open the file using open() function. open() function needs one argument i.e, file name you want to open.The open() function opens file as an object and as in the above program this object is stored in file_object.\n",
    "\n",
    "The keyword 'with' closes the file oncce access to it is no longer needed. Here in this the close() function is not needed, Python automatically does the job.\n",
    "\n",
    "read() method is used to read the entire contents of the file and store it as one long string. when we print this we get the entire text file back.\n",
    "\n",
    "The only difference between this output and the original file is an extra blank line at the end oof the output. read() returns an empty string when it reaches the end of the file; shows as a blank line.\n",
    "\n",
    "To remove the blank line we can use rstrip() function which removes the whitespaces and blank line at the end ( right side )."
   ]
  },
  {
   "cell_type": "markdown",
   "id": "d9e3dd6e",
   "metadata": {},
   "source": [
    "# File Paths\n",
    "\n",
    "when you pass the file name, Python looks for the file in the directory in which the currently executed program is stored. Sometimes depending on how you organize your work, the file you want to open may not be in the same directory as your program file. then open() function don't work, because Python only looks in the current directory.\n",
    "\n",
    "You could use a absolute path to open a file instead of relative path. \n",
    "\n",
    "with open('directory\\file_name') as file_object:\n",
    "\n",
    "This line tells Python to look in the specified directory, You'll need to write out a full path to clarify where you want Python to look.\n",
    "\n",
    "Absolute paths are longer than relative paths, so it is better to store the absolute path in a variable and pass the variable as argument to the open() function\n",
    "\n",
    "file_path = 'C:\\Users\\ehmatthes\\other_files\\text_files\\filename.txt'\n",
    "\n",
    "with open(file_path) as file_object:"
   ]
  },
  {
   "cell_type": "markdown",
   "id": "2c4446d4",
   "metadata": {},
   "source": [
    "# Reading Line by Line"
   ]
  },
  {
   "cell_type": "code",
   "execution_count": 4,
   "id": "80d59bab",
   "metadata": {},
   "outputs": [
    {
     "name": "stdout",
     "output_type": "stream",
     "text": [
      "3.1415926535 \n",
      "\n",
      " 8979323846 \n",
      "\n",
      " 2643383279\n"
     ]
    }
   ],
   "source": [
    "filename = 'pi_digits.txt'\n",
    "with open(filename) as file_object:\n",
    "    for line in file_object:\n",
    "        print(line)"
   ]
  },
  {
   "cell_type": "markdown",
   "id": "1298ed36",
   "metadata": {},
   "source": [
    "The blank line appear because of the invisible newline character at the end of each line. The print statement adds its own newline character at the end of each line."
   ]
  },
  {
   "cell_type": "code",
   "execution_count": 5,
   "id": "8242665a",
   "metadata": {},
   "outputs": [
    {
     "name": "stdout",
     "output_type": "stream",
     "text": [
      "3.1415926535\n",
      " 8979323846\n",
      " 2643383279\n"
     ]
    }
   ],
   "source": [
    "filename = 'pi_digits.txt'\n",
    "with open(filename) as file_object:\n",
    "    for line in file_object:\n",
    "        print(line.rstrip())\n"
   ]
  },
  {
   "cell_type": "markdown",
   "id": "4c568d07",
   "metadata": {},
   "source": [
    "* file_object.readlines() : returns a list with each line in the file as an element."
   ]
  },
  {
   "cell_type": "code",
   "execution_count": 6,
   "id": "3670af10",
   "metadata": {},
   "outputs": [
    {
     "name": "stdout",
     "output_type": "stream",
     "text": [
      "3.1415926535 8979323846 2643383279\n",
      "34\n"
     ]
    }
   ],
   "source": [
    "filename = 'pi_digits.txt'\n",
    "with open(filename) as file_object:\n",
    "    lines = file_object.readlines()\n",
    "    pi_string = ''\n",
    "    for line in lines:\n",
    "        pi_string += line.rstrip()\n",
    "\n",
    "print(pi_string)\n",
    "print(len(pi_string))"
   ]
  },
  {
   "cell_type": "markdown",
   "id": "9cb55e64",
   "metadata": {},
   "source": [
    "Python has no inherent limit to how much data you can work with, you can work with as much data as you system's memory can handle."
   ]
  },
  {
   "cell_type": "markdown",
   "id": "10617ea1",
   "metadata": {},
   "source": [
    "# Writing to a File\n",
    "\n",
    "\n",
    "The second argument 'w' means to open file in writing mode.\n",
    "* r : read mode\n",
    "* w : write mode\n",
    "* a : append mode\n",
    "* r+ : read and write\n",
    "* Python open file in read only mode by default."
   ]
  },
  {
   "cell_type": "code",
   "execution_count": 9,
   "id": "562b2793",
   "metadata": {},
   "outputs": [],
   "source": [
    "filename = 'programming.txt'\n",
    "with open(filename, 'w') as file_object:\n",
    "    file_object.write(\"I love programming.\")\n",
    "    file_object.write(\"I love creating new games.\")"
   ]
  },
  {
   "cell_type": "markdown",
   "id": "cf469dea",
   "metadata": {},
   "source": [
    "If you open programming.txt, you’ll see the two lines squished together:\n",
    "\n",
    "I love programming.I love creating new games.\n",
    "\n",
    "Including newlines in your write() statements makes each string appear \n",
    "on its own line:"
   ]
  },
  {
   "cell_type": "code",
   "execution_count": 10,
   "id": "fdafe0b2",
   "metadata": {},
   "outputs": [],
   "source": [
    "filename = 'programming.txt'\n",
    "with open(filename, 'w') as file_object:\n",
    "    file_object.write(\"I love programming.\\n\")\n",
    "    file_object.write(\"I love creating new games.\\n\")"
   ]
  },
  {
   "cell_type": "markdown",
   "id": "e203494b",
   "metadata": {},
   "source": [
    "The output now appears on separate lines:\n",
    "\n",
    "I love programming.\n",
    "\n",
    "I love creating new games."
   ]
  },
  {
   "cell_type": "markdown",
   "id": "cc2731ce",
   "metadata": {},
   "source": [
    "# Appending to a File\n",
    "\n",
    "To add content instead of writing over existing content. open file in append mode. "
   ]
  },
  {
   "cell_type": "code",
   "execution_count": 11,
   "id": "82a990d8",
   "metadata": {},
   "outputs": [],
   "source": [
    "filename = 'programming.txt'\n",
    "with open(filename, 'a') as file_object:\n",
    "    file_object.write(\"I also love finding meaning in large datasets.\\n\")\n",
    "    file_object.write(\"I love creating apps that can run in a browser.\\n\")"
   ]
  },
  {
   "cell_type": "markdown",
   "id": "9bcdd466",
   "metadata": {},
   "source": [
    "I love programming.\n",
    "\n",
    "I love creating new games.\n",
    "\n",
    "I also love finding meaning in large datasets.\n",
    "\n",
    "I love creating apps that can run in a browser."
   ]
  },
  {
   "cell_type": "markdown",
   "id": "ffd28548",
   "metadata": {},
   "source": [
    "# Exceptions\n",
    "\n",
    "Python uses special objects called exceptions to manage errors that arise during a program's execution. When errors occurs Python is unsure what to do next, it creates exception object. \n",
    "\n",
    "Exceptions are handled using try-except blocks.\n",
    "\n",
    "# Handling the ZeroDivisionError Exception"
   ]
  },
  {
   "cell_type": "code",
   "execution_count": 12,
   "id": "cc25fc0b",
   "metadata": {},
   "outputs": [
    {
     "ename": "ZeroDivisionError",
     "evalue": "division by zero",
     "output_type": "error",
     "traceback": [
      "\u001b[1;31m---------------------------------------------------------------------------\u001b[0m",
      "\u001b[1;31mZeroDivisionError\u001b[0m                         Traceback (most recent call last)",
      "Input \u001b[1;32mIn [12]\u001b[0m, in \u001b[0;36m<cell line: 1>\u001b[1;34m()\u001b[0m\n\u001b[1;32m----> 1\u001b[0m \u001b[38;5;28mprint\u001b[39m(\u001b[38;5;241;43m5\u001b[39;49m\u001b[38;5;241;43m/\u001b[39;49m\u001b[38;5;241;43m0\u001b[39;49m)\n",
      "\u001b[1;31mZeroDivisionError\u001b[0m: division by zero"
     ]
    }
   ],
   "source": [
    "print(5/0)"
   ]
  },
  {
   "cell_type": "code",
   "execution_count": 13,
   "id": "08b5a995",
   "metadata": {},
   "outputs": [
    {
     "name": "stdout",
     "output_type": "stream",
     "text": [
      "You can't divide by zero!\n"
     ]
    }
   ],
   "source": [
    "try:\n",
    "    print(5/0)\n",
    "except ZeroDivisionError:\n",
    "    print(\"You can't divide by zero!\")\n"
   ]
  },
  {
   "cell_type": "markdown",
   "id": "4e162bf5",
   "metadata": {},
   "source": [
    "# The else Block\n",
    "\n",
    "We can make this program more error resistant by wrapping the line that \n",
    "might produce errors in a try-except block. The error occurs on the line \n",
    "that performs the division, so that’s where we’ll put the try-except block. \n",
    "This example also includes an else block. Any code that depends on the try block executing successfully goes in the else block."
   ]
  },
  {
   "cell_type": "code",
   "execution_count": null,
   "id": "a325493f",
   "metadata": {},
   "outputs": [
    {
     "name": "stdout",
     "output_type": "stream",
     "text": [
      "Give me two numbers, and I'll divide them.\n",
      "Enter 'q' to quit.\n",
      "\n",
      "First number: 5\n",
      "Second number: 0\n",
      "You can't divide by 0!\n",
      "\n",
      "First number: 5\n",
      "Second number: 2\n",
      "2.5\n"
     ]
    }
   ],
   "source": [
    "print(\"Give me two numbers, and I'll divide them.\")\n",
    "print(\"Enter 'q' to quit.\")\n",
    "while True:\n",
    "    first_number = input(\"\\nFirst number: \")\n",
    "    if first_number == 'q':\n",
    "        break\n",
    "    second_number = input(\"Second number: \")\n",
    "    try:\n",
    "        answer = int(first_number) / int(second_number)\n",
    "    except ZeroDivisionError:\n",
    "        print(\"You can't divide by 0!\")\n",
    "    else:\n",
    "        print(answer)"
   ]
  },
  {
   "cell_type": "code",
   "execution_count": 16,
   "id": "e94f3bc7",
   "metadata": {},
   "outputs": [
    {
     "name": "stdout",
     "output_type": "stream",
     "text": [
      "Sorry, the file alice.txt does not exist.\n"
     ]
    }
   ],
   "source": [
    "filename = 'alice.txt'\n",
    "try:\n",
    "    with open(filename) as f_obj:\n",
    "        contents = f_obj.read()\n",
    "        print(contents)\n",
    "except FileNotFoundError:\n",
    "    msg = \"Sorry, the file \" + filename + \" does not exist.\"\n",
    "    print(msg)"
   ]
  },
  {
   "cell_type": "markdown",
   "id": "0eaf5880",
   "metadata": {},
   "source": [
    "# Sorting Data\n",
    "\n",
    "When users close a program, you’ll almost always want to save the information they entered. A simple way to do this involves storing your data using the json module.\n",
    "\n",
    "The json module allows you to dump simple Python data structures into a file and load the data from that file the next time the program runs. You can also use json to share data between different Python programs. Even better, the JSON data format is not specific to Python, so you can share data you store in the JSON format with people who work in many other programming languages. It’s a useful and portable format, and it’s easy to learn.\n",
    "\n",
    "NOTE: The JSON (JavaScript Object Notation) format was originally developed for JavaScript. However, it has since become a common format used by many languages, including Python."
   ]
  },
  {
   "cell_type": "markdown",
   "id": "97b687ea",
   "metadata": {},
   "source": [
    "# Using json.dump() and json.load()\n",
    "\n",
    "* json.dump() : takes two arguments a piece of data to store and a file object it can use to store the data.\n",
    "\n",
    "It’s customary to use the file extension .json to indicate that the data in the file is stored in the JSON format.\n",
    "\n",
    "we open the file in write mode, which allows json to write the data to the file."
   ]
  },
  {
   "cell_type": "code",
   "execution_count": 17,
   "id": "d0f0d314",
   "metadata": {},
   "outputs": [],
   "source": [
    "import json\n",
    "numbers = [2, 3, 5, 7, 11, 13]\n",
    "filename = 'numbers.json'\n",
    "with open(filename, 'w') as f_obj:\n",
    "    json.dump(numbers, f_obj)"
   ]
  },
  {
   "cell_type": "markdown",
   "id": "e5a40414",
   "metadata": {},
   "source": [
    "The data is stored in a format that looks just like Python.\n",
    "\n",
    "[2, 3, 5, 7, 11, 13]\n",
    "\n",
    "* json.load : takes file object as argument to read the content."
   ]
  },
  {
   "cell_type": "code",
   "execution_count": 18,
   "id": "74e18e68",
   "metadata": {},
   "outputs": [
    {
     "name": "stdout",
     "output_type": "stream",
     "text": [
      "[2, 3, 5, 7, 11, 13]\n"
     ]
    }
   ],
   "source": [
    "import json\n",
    "filename = 'numbers.json'\n",
    "with open(filename) as f_obj:\n",
    "    numbers = json.load(f_obj)\n",
    "\n",
    "print(numbers)\n"
   ]
  },
  {
   "cell_type": "markdown",
   "id": "ee3b4360",
   "metadata": {},
   "source": [
    "# Saving and Reading User-Generated Data"
   ]
  },
  {
   "cell_type": "code",
   "execution_count": 19,
   "id": "89fbe4bf",
   "metadata": {},
   "outputs": [
    {
     "name": "stdout",
     "output_type": "stream",
     "text": [
      "What is your name? Chakrapani\n",
      "We'll remember you when you come back, Chakrapani!\n"
     ]
    }
   ],
   "source": [
    "import json\n",
    "username = input(\"What is your name? \")\n",
    "filename = 'username.json'\n",
    "with open(filename, 'w') as f_obj:\n",
    "    json.dump(username, f_obj)\n",
    "    print(\"We'll remember you when you come back, \" + username + \"!\")"
   ]
  },
  {
   "cell_type": "markdown",
   "id": "86ff0809",
   "metadata": {},
   "source": [
    "# Refactoring\n",
    "\n",
    "Breaking up the code into a series of functions that have specific jobs. This process is called refactoring. Refactoring makes your code cleaner, easier to understand, and easier to extend. "
   ]
  }
 ],
 "metadata": {
  "kernelspec": {
   "display_name": "Python 3 (ipykernel)",
   "language": "python",
   "name": "python3"
  },
  "language_info": {
   "codemirror_mode": {
    "name": "ipython",
    "version": 3
   },
   "file_extension": ".py",
   "mimetype": "text/x-python",
   "name": "python",
   "nbconvert_exporter": "python",
   "pygments_lexer": "ipython3",
   "version": "3.10.0"
  }
 },
 "nbformat": 4,
 "nbformat_minor": 5
}
